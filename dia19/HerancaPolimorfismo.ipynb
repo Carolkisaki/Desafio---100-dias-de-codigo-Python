{
 "cells": [
  {
   "cell_type": "markdown",
   "id": "1ddcbb2f-5e22-4641-ad59-899e9743acf7",
   "metadata": {},
   "source": [
    "## Herança e Polimorfismo de Classes"
   ]
  },
  {
   "cell_type": "markdown",
   "id": "b24bc22c-5c69-4437-a89a-948bdc2f1a2e",
   "metadata": {},
   "source": [
    "### Herança de Classes\n",
    "Em POO, a Herança é um conceito que permite criar novas classes a partir de outras classes existentes, aproveitando os atributos e métodos da classe original e adicionando novos atributos e métodos específicos.\n",
    "\n",
    "A classe original é chamada de classe mãe ou superclasse e a nova classe criada é chamada de classe filha ou subclasse\n",
    "\n",
    "A Herança é uma técnica que permite reutilizar o código de maneira eficiente. Em vez de criar uma nova classes do zero, a subclasse pode herdar todos os atributos e métodos da superclasse e adicionar apenas o que é necessário.\n",
    "\n",
    "Na Herança, uma subclasse pode herdar os atributos e métodos da superclasse e substituí-los ou estendê-los conforme necessário"
   ]
  },
  {
   "cell_type": "code",
   "execution_count": 1,
   "id": "44bd1c7a-6c46-458a-9b26-c25012b74f53",
   "metadata": {},
   "outputs": [],
   "source": [
    "# Criando a classe Animal - superclasse\n",
    "class Animal:\n",
    "    def __init__(self):\n",
    "        print(\"Animal criado\")\n",
    "    def imprimir(self):\n",
    "        print(\"Este é um animal\")\n",
    "    def comer(self):\n",
    "        print(\"Hora de comer\")\n",
    "    def emitir_som(self):\n",
    "        pass"
   ]
  },
  {
   "cell_type": "code",
   "execution_count": 2,
   "id": "862673c9-9f60-4ce1-a299-d3bace1ab72e",
   "metadata": {},
   "outputs": [],
   "source": [
    "#Criando a classe Cachorro - subclasse\n",
    "class Cachorro(Animal):\n",
    "    def __init__(self):\n",
    "        Animal.__init__(self)\n",
    "        print(\"Objeto cachorro criado\")\n",
    "    def emitir_som(self):\n",
    "        print(\"Au au\")"
   ]
  },
  {
   "cell_type": "code",
   "execution_count": 3,
   "id": "b14bcaba-41fa-4a69-8df4-bf4211bc2c19",
   "metadata": {},
   "outputs": [],
   "source": [
    "#Criando a classe Gato - subclasse\n",
    "class Gato(Animal):\n",
    "    def __init__(self):\n",
    "        Animal.__init__(self)\n",
    "        print(\"Objeto gato criado\")\n",
    "    def emitir_som(self):\n",
    "        print(\"miau\")"
   ]
  },
  {
   "cell_type": "code",
   "execution_count": 4,
   "id": "88198f77-56f8-4ef4-be18-c3910f853543",
   "metadata": {},
   "outputs": [
    {
     "name": "stdout",
     "output_type": "stream",
     "text": [
      "Animal criado\n",
      "Objeto cachorro criado\n"
     ]
    }
   ],
   "source": [
    "#Instanciando a classe\n",
    "Toby = Cachorro()"
   ]
  },
  {
   "cell_type": "code",
   "execution_count": 5,
   "id": "baa1d001-8695-4254-b152-5ba43c01524f",
   "metadata": {},
   "outputs": [
    {
     "name": "stdout",
     "output_type": "stream",
     "text": [
      "Animal criado\n",
      "Objeto gato criado\n"
     ]
    }
   ],
   "source": [
    "Frajola = Gato()"
   ]
  },
  {
   "cell_type": "code",
   "execution_count": 6,
   "id": "6cc4cd79-8e18-4712-a71b-e58c94419583",
   "metadata": {},
   "outputs": [
    {
     "name": "stdout",
     "output_type": "stream",
     "text": [
      "Au au\n"
     ]
    }
   ],
   "source": [
    "Toby.emitir_som()"
   ]
  },
  {
   "cell_type": "code",
   "execution_count": 7,
   "id": "a463b027-f394-4070-b10b-6f2336990d74",
   "metadata": {},
   "outputs": [
    {
     "name": "stdout",
     "output_type": "stream",
     "text": [
      "miau\n"
     ]
    }
   ],
   "source": [
    "Frajola.emitir_som()"
   ]
  },
  {
   "cell_type": "code",
   "execution_count": 8,
   "id": "3d4c4d63-4bc0-4c17-80ae-2118204f1159",
   "metadata": {},
   "outputs": [
    {
     "name": "stdout",
     "output_type": "stream",
     "text": [
      "Este é um animal\n"
     ]
    }
   ],
   "source": [
    "Toby.imprimir()"
   ]
  },
  {
   "cell_type": "code",
   "execution_count": 9,
   "id": "a2c08768-658b-4f2a-bb9b-e3696f83cb15",
   "metadata": {},
   "outputs": [
    {
     "name": "stdout",
     "output_type": "stream",
     "text": [
      "Hora de comer\n"
     ]
    }
   ],
   "source": [
    "Toby.comer()"
   ]
  },
  {
   "cell_type": "code",
   "execution_count": 10,
   "id": "47ed2523-12ff-4e21-af61-5ea9dc7fdb0a",
   "metadata": {},
   "outputs": [
    {
     "name": "stdout",
     "output_type": "stream",
     "text": [
      "Hora de comer\n"
     ]
    }
   ],
   "source": [
    "Frajola.comer()"
   ]
  },
  {
   "cell_type": "markdown",
   "id": "11f9f575-3f81-4636-bef9-33b3623013f9",
   "metadata": {},
   "source": [
    "### Polimorfismo de Classes\n",
    "Permite que objetos de diferentes classes podem ser tratados de forma uniforme. Isso signiifica que um objeto pode ser tratado como se fosse um objeto de uma superclasse, que ele seja de uma subclasse.\n",
    "\n",
    "O polimorfismo se refere à habilidade de um objeto responder de differentes formas a uma mesma mensagem. Isso é possível porque as subclasses podem implementar métodos com o mesmo nome que os métodos da superclasse, mas com comportamentos diferentes\n",
    "\n",
    "Com o Polimorfismo, os mesmos atributos e métodos podem ser utilizados em objetos distintos, porém, com implementações lógicas diferentes"
   ]
  },
  {
   "cell_type": "code",
   "execution_count": 13,
   "id": "d831ad24-b6e1-4952-aea4-44454c889ea9",
   "metadata": {},
   "outputs": [],
   "source": [
    "# Superclasse\n",
    "class Veiculo:\n",
    "    def __init__(self, marca, modelo): #método construtor usado APENAS na superclasse\n",
    "        self.marca = marca\n",
    "        self.modelo = modelo\n",
    "    def acelerar(self):\n",
    "        pass\n",
    "    def frear(self):\n",
    "        pass"
   ]
  },
  {
   "cell_type": "code",
   "execution_count": 14,
   "id": "7ba9805f-3f07-4f0c-8f6b-85ae30c98cea",
   "metadata": {},
   "outputs": [],
   "source": [
    "# Subclasse\n",
    "class Carro(Veiculo):\n",
    "    def acelerar(self):\n",
    "        print(\"O carro está acelerando\")\n",
    "    def frear(self):\n",
    "        print(\"O carro está freando\")"
   ]
  },
  {
   "cell_type": "code",
   "execution_count": 15,
   "id": "f2951d03-3dd1-4c93-9699-03de4242baef",
   "metadata": {},
   "outputs": [],
   "source": [
    "class Moto(Veiculo):\n",
    "    def acelerar(self):\n",
    "        print(\"A moto está acelerando\")\n",
    "    def frear(self):\n",
    "        print(\"A moto está freando\")"
   ]
  },
  {
   "cell_type": "code",
   "execution_count": 17,
   "id": "c7aa6330-2d32-40bf-91a0-014339aec15e",
   "metadata": {},
   "outputs": [],
   "source": [
    "class Aviao(Veiculo):\n",
    "    def acelerar(self):\n",
    "        print(\"O avião está acelerando\")\n",
    "    def frear(self):\n",
    "        print(\"O avião está freando\")\n",
    "    def decolar(self):\n",
    "        print(\"O avião está decolando\")"
   ]
  },
  {
   "cell_type": "code",
   "execution_count": 18,
   "id": "04869552-6fd6-4ef5-814f-f7d5ee8f1a75",
   "metadata": {},
   "outputs": [],
   "source": [
    "# Criando os objetos\n",
    "lista_veiculos = [Carro(\"Porsche\", \"911 Turbo\"), Moto(\"Honda\", \"CB 1000R Black Edition\"), Aviao(\"Boeing\", \"757\")]"
   ]
  },
  {
   "cell_type": "code",
   "execution_count": 19,
   "id": "1da81910-f012-465c-92f6-46bf187f7d30",
   "metadata": {},
   "outputs": [
    {
     "name": "stdout",
     "output_type": "stream",
     "text": [
      "O carro está acelerando\n",
      "O carro está freando\n",
      "---\n",
      "A moto está acelerando\n",
      "A moto está freando\n",
      "---\n",
      "O avião está acelerando\n",
      "O avião está freando\n",
      "O avião está decolando\n",
      "---\n"
     ]
    }
   ],
   "source": [
    "#Loop\n",
    "for item in lista_veiculos:\n",
    "    # o método acelerar e frear têm comportamentos diferentes dependendo do tipo de objeto\n",
    "    item.acelerar()\n",
    "    item.frear()\n",
    "\n",
    "    # executamos o método decolar SOMENTE se o objeto for instância da classe aviao\n",
    "    if isinstance(item, Aviao):\n",
    "        item.decolar()\n",
    "\n",
    "    print(\"---\")"
   ]
  }
 ],
 "metadata": {
  "kernelspec": {
   "display_name": "Python 3 (ipykernel)",
   "language": "python",
   "name": "python3"
  },
  "language_info": {
   "codemirror_mode": {
    "name": "ipython",
    "version": 3
   },
   "file_extension": ".py",
   "mimetype": "text/x-python",
   "name": "python",
   "nbconvert_exporter": "python",
   "pygments_lexer": "ipython3",
   "version": "3.12.7"
  }
 },
 "nbformat": 4,
 "nbformat_minor": 5
}
