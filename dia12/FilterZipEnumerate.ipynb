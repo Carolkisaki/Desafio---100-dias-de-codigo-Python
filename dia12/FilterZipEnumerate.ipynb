{
 "cells": [
  {
   "cell_type": "markdown",
   "id": "5ac6d9a9-60ee-4aac-8493-0fda19664306",
   "metadata": {},
   "source": [
    "## Funções Filter, Zip e Enumerate\n",
    "### Função Filter\n",
    "#### Função que filtra elementos de uma estrutura de dados"
   ]
  },
  {
   "cell_type": "code",
   "execution_count": 1,
   "id": "0b9a37dc-7990-4fbd-865e-77db526058f4",
   "metadata": {},
   "outputs": [],
   "source": [
    "#Criando uma função\n",
    "def verificaPar(num):\n",
    "    if num % 2 == 0:\n",
    "        return True\n",
    "    else:\n",
    "        return False"
   ]
  },
  {
   "cell_type": "code",
   "execution_count": 2,
   "id": "db57b812-b4ec-4b12-93ec-905dfc2909b6",
   "metadata": {},
   "outputs": [
    {
     "data": {
      "text/plain": [
       "False"
      ]
     },
     "execution_count": 2,
     "metadata": {},
     "output_type": "execute_result"
    }
   ],
   "source": [
    "verificaPar(55)"
   ]
  },
  {
   "cell_type": "code",
   "execution_count": 3,
   "id": "d1f3ebe4-8046-49a4-b7fe-16290cdee93d",
   "metadata": {},
   "outputs": [
    {
     "data": {
      "text/plain": [
       "True"
      ]
     },
     "execution_count": 3,
     "metadata": {},
     "output_type": "execute_result"
    }
   ],
   "source": [
    "verificaPar(102)"
   ]
  },
  {
   "cell_type": "code",
   "execution_count": 6,
   "id": "52c2332e-989e-4b11-babe-8c89fd81b376",
   "metadata": {},
   "outputs": [
    {
     "data": {
      "text/plain": [
       "<filter at 0x245b66411b0>"
      ]
     },
     "execution_count": 6,
     "metadata": {},
     "output_type": "execute_result"
    }
   ],
   "source": [
    "#Criando uma lista\n",
    "numeros = [0, 1, 2, 3, 4, 5, 6]\n",
    "filter(verificaPar, numeros)"
   ]
  },
  {
   "cell_type": "code",
   "execution_count": 8,
   "id": "f1d7c2b1-e244-4c67-82b9-e42828cba608",
   "metadata": {},
   "outputs": [
    {
     "data": {
      "text/plain": [
       "[0, 2, 4, 6]"
      ]
     },
     "execution_count": 8,
     "metadata": {},
     "output_type": "execute_result"
    }
   ],
   "source": [
    "list(filter(verificaPar, numeros))"
   ]
  },
  {
   "cell_type": "code",
   "execution_count": 9,
   "id": "f1fb267a-bc03-4a6f-bd6f-d84addb4c9bb",
   "metadata": {},
   "outputs": [
    {
     "data": {
      "text/plain": [
       "[0, 2, 4, 6]"
      ]
     },
     "execution_count": 9,
     "metadata": {},
     "output_type": "execute_result"
    }
   ],
   "source": [
    "list(filter(lambda x: x %2 == 0, numeros))"
   ]
  },
  {
   "cell_type": "code",
   "execution_count": 10,
   "id": "14f05781-5526-4fa2-b643-802c7268174f",
   "metadata": {},
   "outputs": [
    {
     "data": {
      "text/plain": [
       "[0, 1, 2, 3]"
      ]
     },
     "execution_count": 10,
     "metadata": {},
     "output_type": "execute_result"
    }
   ],
   "source": [
    "list(filter(lambda num: num < 4, numeros))"
   ]
  },
  {
   "cell_type": "markdown",
   "id": "3bd04e50-307a-4499-ba26-81de988d7fce",
   "metadata": {},
   "source": [
    "### Função Zip\n",
    "#### Função que agrupa elementos de múltiplas estruturas de dados"
   ]
  },
  {
   "cell_type": "code",
   "execution_count": 11,
   "id": "f8d912b1-c371-4ce4-89b0-6f29e8eee3f9",
   "metadata": {},
   "outputs": [
    {
     "data": {
      "text/plain": [
       "<zip at 0x245b71a12c0>"
      ]
     },
     "execution_count": 11,
     "metadata": {},
     "output_type": "execute_result"
    }
   ],
   "source": [
    "#Criando duas listas\n",
    "x = [1, 2, 3]\n",
    "y = [4, 5, 6]\n",
    "\n",
    "zip(x, y)"
   ]
  },
  {
   "cell_type": "code",
   "execution_count": 12,
   "id": "6f6731b5-abba-4d4a-86ec-e8da5d1c8c8e",
   "metadata": {},
   "outputs": [
    {
     "data": {
      "text/plain": [
       "[(1, 4), (2, 5), (3, 6)]"
      ]
     },
     "execution_count": 12,
     "metadata": {},
     "output_type": "execute_result"
    }
   ],
   "source": [
    "list(zip(x, y))"
   ]
  },
  {
   "cell_type": "code",
   "execution_count": 14,
   "id": "75c234d4-4d44-43f1-9e74-5b4dffaa5fda",
   "metadata": {},
   "outputs": [
    {
     "data": {
      "text/plain": [
       "[('A', 'X'), ('B', 'Y')]"
      ]
     },
     "execution_count": 14,
     "metadata": {},
     "output_type": "execute_result"
    }
   ],
   "source": [
    "#E quando há diferença na quantidade de elementos nas listas?\n",
    "list(zip('ABCD', 'XY'))"
   ]
  },
  {
   "cell_type": "code",
   "execution_count": 16,
   "id": "82f25d72-e61f-4018-aebe-4aa89c3e9448",
   "metadata": {},
   "outputs": [
    {
     "data": {
      "text/plain": [
       "[(1, 4), (2, 5), (3, 6)]"
      ]
     },
     "execution_count": 16,
     "metadata": {},
     "output_type": "execute_result"
    }
   ],
   "source": [
    "#A função zip() retorna exatamente a combinação, caso ela não consiga combinar, ela descarta\n",
    "a = [1, 2, 3]\n",
    "b = [4, 5, 6, 7, 8]\n",
    "\n",
    "list(zip(a, b))"
   ]
  },
  {
   "cell_type": "code",
   "execution_count": 17,
   "id": "dea8389e-5d13-4979-ae5a-df6c3c05ad72",
   "metadata": {},
   "outputs": [
    {
     "data": {
      "text/plain": [
       "[('a', 'c'), ('b', 'd')]"
      ]
     },
     "execution_count": 17,
     "metadata": {},
     "output_type": "execute_result"
    }
   ],
   "source": [
    "# 2 dicionários\n",
    "d1 = {'a': 1, 'b': 2}\n",
    "d2 = {'c': 4, 'd': 6}\n",
    "\n",
    "list(zip(d1,d2))"
   ]
  },
  {
   "cell_type": "code",
   "execution_count": 19,
   "id": "cff8854c-97f1-4afd-8a10-35b46554abb8",
   "metadata": {},
   "outputs": [
    {
     "data": {
      "text/plain": [
       "[('a', 4), ('b', 6)]"
      ]
     },
     "execution_count": 19,
     "metadata": {},
     "output_type": "execute_result"
    }
   ],
   "source": [
    "#Para fazer a combinação com os valores, usamos values() de um dos dicionários\n",
    "list(zip(d1, d2.values()))"
   ]
  },
  {
   "cell_type": "code",
   "execution_count": 20,
   "id": "08f4cb2a-90c8-4b88-89ec-e45cf14d6ea3",
   "metadata": {},
   "outputs": [
    {
     "data": {
      "text/plain": [
       "[(1, 'c'), (2, 'd')]"
      ]
     },
     "execution_count": 20,
     "metadata": {},
     "output_type": "execute_result"
    }
   ],
   "source": [
    "list(zip(d1.values(), d2))"
   ]
  },
  {
   "cell_type": "code",
   "execution_count": 25,
   "id": "9ab821ec-59cd-4dba-a3c8-2135a22353da",
   "metadata": {},
   "outputs": [],
   "source": [
    "#Criando uma função para trocar valores entre 2 dicionários\n",
    "def trocaValores(d1, d2):\n",
    "    dicTemp = {}\n",
    "    for d1key, d2val in zip(d1, d2.values()):\n",
    "        dicTemp[d1key] = d2val\n",
    "    return dicTemp"
   ]
  },
  {
   "cell_type": "code",
   "execution_count": 26,
   "id": "a716b6a9-53fd-4321-b4f6-fda06312eac4",
   "metadata": {},
   "outputs": [
    {
     "data": {
      "text/plain": [
       "{'a': 4, 'b': 6}"
      ]
     },
     "execution_count": 26,
     "metadata": {},
     "output_type": "execute_result"
    }
   ],
   "source": [
    "trocaValores(d1, d2)"
   ]
  },
  {
   "cell_type": "markdown",
   "id": "913e1645-3126-47f1-aa55-1858fde05e8d",
   "metadata": {},
   "source": [
    "### Função Enumerate\n",
    "#### A função retorna um objeto enumerado, que pode ser usado em loops para percorrer a estrutura de dados e acessar o contador e o valor de cada elemento"
   ]
  },
  {
   "cell_type": "code",
   "execution_count": 27,
   "id": "2ddda95a-2e89-4fc4-9cd1-cbb22b4a2710",
   "metadata": {},
   "outputs": [
    {
     "data": {
      "text/plain": [
       "[(0, 'a'), (1, 'b'), (2, 'c'), (3, 'd')]"
      ]
     },
     "execution_count": 27,
     "metadata": {},
     "output_type": "execute_result"
    }
   ],
   "source": [
    "#Criando uma lista\n",
    "seq = ['a', 'b', 'c', 'd']\n",
    "list(enumerate(seq))"
   ]
  },
  {
   "cell_type": "code",
   "execution_count": 29,
   "id": "600ac3e0-6520-4a58-9b15-3d15be1d37e3",
   "metadata": {},
   "outputs": [
    {
     "name": "stdout",
     "output_type": "stream",
     "text": [
      "a\n",
      "b\n",
      "c\n"
     ]
    }
   ],
   "source": [
    "for indice, valor in enumerate(seq):\n",
    "    if indice >= 3:\n",
    "        break\n",
    "    else:\n",
    "        print(valor)"
   ]
  },
  {
   "cell_type": "code",
   "execution_count": 30,
   "id": "66bf7f22-0d2f-40ad-95a5-2480ae040d68",
   "metadata": {},
   "outputs": [
    {
     "name": "stdout",
     "output_type": "stream",
     "text": [
      "0 Análise de Dados\n",
      "1 Ciência de Dados\n",
      "2 Banco de Dados\n"
     ]
    }
   ],
   "source": [
    "lista = ['Análise de Dados', 'Ciência de Dados', 'Banco de Dados']\n",
    "for i, item in enumerate(lista):\n",
    "    print(i, item)"
   ]
  },
  {
   "cell_type": "code",
   "execution_count": 32,
   "id": "2a82313a-5ece-47dc-b821-862c24f7ffdd",
   "metadata": {},
   "outputs": [
    {
     "name": "stdout",
     "output_type": "stream",
     "text": [
      "0 D\n",
      "1 e\n",
      "2 s\n",
      "3 a\n",
      "4 f\n",
      "5 i\n",
      "6 o\n",
      "7  \n",
      "8 1\n",
      "9 0\n",
      "10 0\n",
      "11  \n",
      "12 d\n",
      "13 i\n",
      "14 a\n",
      "15 s\n",
      "16  \n",
      "17 C\n",
      "18 ó\n",
      "19 d\n",
      "20 i\n",
      "21 g\n",
      "22 o\n",
      "23  \n",
      "24 P\n",
      "25 y\n",
      "26 t\n",
      "27 h\n",
      "28 o\n",
      "29 n\n"
     ]
    }
   ],
   "source": [
    "for i, item in enumerate('Desafio 100 dias Código Python'):\n",
    "    print(i, item)"
   ]
  },
  {
   "cell_type": "code",
   "execution_count": 33,
   "id": "954798d4-3d73-4804-a221-e7d5b5f1bd87",
   "metadata": {},
   "outputs": [
    {
     "name": "stdout",
     "output_type": "stream",
     "text": [
      "0 0\n",
      "1 1\n",
      "2 2\n",
      "3 3\n",
      "4 4\n",
      "5 5\n"
     ]
    }
   ],
   "source": [
    "for i, item in enumerate(range(6)):\n",
    "    print(i, item)"
   ]
  },
  {
   "cell_type": "code",
   "execution_count": null,
   "id": "17696a12-eb79-4ec3-8c51-d21ec69614e8",
   "metadata": {},
   "outputs": [],
   "source": []
  }
 ],
 "metadata": {
  "kernelspec": {
   "display_name": "Python 3 (ipykernel)",
   "language": "python",
   "name": "python3"
  },
  "language_info": {
   "codemirror_mode": {
    "name": "ipython",
    "version": 3
   },
   "file_extension": ".py",
   "mimetype": "text/x-python",
   "name": "python",
   "nbconvert_exporter": "python",
   "pygments_lexer": "ipython3",
   "version": "3.12.7"
  }
 },
 "nbformat": 4,
 "nbformat_minor": 5
}
