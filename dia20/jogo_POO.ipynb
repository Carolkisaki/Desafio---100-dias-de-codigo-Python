{
 "cells": [
  {
   "cell_type": "markdown",
   "id": "4b8776b9-180d-4522-8d04-f20bb266a73a",
   "metadata": {},
   "source": [
    "### Jogo da Forca"
   ]
  },
  {
   "cell_type": "markdown",
   "id": "ca491585-062e-4fb5-bf5f-9e68556e0355",
   "metadata": {},
   "source": [
    "### Agora que aprendemos Programação Orientada a Objetos, vamos melhorar o jogo da Forca realizado no dia 15"
   ]
  },
  {
   "cell_type": "code",
   "execution_count": 1,
   "id": "946d9c99-9f98-4130-9def-282be75333da",
   "metadata": {},
   "outputs": [],
   "source": [
    "import random\n",
    "from os import system, name"
   ]
  },
  {
   "cell_type": "code",
   "execution_count": 2,
   "id": "2dde708b-8cf2-46a0-ae0f-d018922fe04f",
   "metadata": {},
   "outputs": [],
   "source": [
    "class Forca:\n",
    "    def __init__(self):\n",
    "        pass\n",
    "        \n",
    "    #Criar a função para o jogo\n",
    "\n",
    "    def game():\n",
    "        \n",
    "        print(\"\\nBem vindo(a) ao jogo!!\")\n",
    "       \n",
    "\n",
    "        #Lista de palavras\n",
    "        palavras = ['chocolate', 'bolo', 'morango', 'strogonoff', 'carne', 'arroz']\n",
    "        \n",
    "        #Escolhendo randomicamente uma palavra para o jogo\n",
    "        palavra = random.choice(palavras)\n",
    "        letras_descobertas = ['_' for letra in palavra] #list comprehension\n",
    "        chances = 5\n",
    "        erros = []\n",
    "\n",
    "        #Loop while\n",
    "        while chances > 0:\n",
    "            print(\"Adivinhe a palavra abaixo!\")\n",
    "            print(\" \".join(letras_descobertas))\n",
    "            print(\"\\nChances restantes:\", chances)\n",
    "            print(\"Letras erradas:\", \" \".join(erros))\n",
    "                                   \n",
    "            #tentativas\n",
    "            tentativa = input(\"\\nDigite uma letra:\").lower()\n",
    "            if tentativa in palavra:\n",
    "                index = 0\n",
    "                \n",
    "                for letra in palavra: \n",
    "                    if tentativa == letra:\n",
    "                        letras_descobertas[index] = letra\n",
    "                    index += 1\n",
    "            else:\n",
    "                chances -= 1\n",
    "                erros.append(tentativa)\n",
    "            if \"_\" not in letras_descobertas:\n",
    "                print(\"\\n Parabéns!! A palavra é mesmo: \", palavra)\n",
    "                break\n",
    "            system('cls') # para windows\n",
    "            \n",
    "        if \"_\" in letras_descobertas:\n",
    "            print(\"\\nPoxa... que pena, você perdeu, a palavra era:\", palavra)"
   ]
  },
  {
   "cell_type": "code",
   "execution_count": 3,
   "id": "860df289-586d-48b1-a32c-6896963d8bb3",
   "metadata": {},
   "outputs": [
    {
     "name": "stdout",
     "output_type": "stream",
     "text": [
      "\n",
      "Bem vindo(a) ao jogo!!\n",
      "Adivinhe a palavra abaixo!\n",
      "_ _ _ _ _ _ _ _ _ _\n",
      "\n",
      "Chances restantes: 5\n",
      "Letras erradas: \n"
     ]
    },
    {
     "name": "stdin",
     "output_type": "stream",
     "text": [
      "\n",
      "Digite uma letra: s\n"
     ]
    },
    {
     "name": "stdout",
     "output_type": "stream",
     "text": [
      "Adivinhe a palavra abaixo!\n",
      "s _ _ _ _ _ _ _ _ _\n",
      "\n",
      "Chances restantes: 5\n",
      "Letras erradas: \n"
     ]
    },
    {
     "name": "stdin",
     "output_type": "stream",
     "text": [
      "\n",
      "Digite uma letra: t\n"
     ]
    },
    {
     "name": "stdout",
     "output_type": "stream",
     "text": [
      "Adivinhe a palavra abaixo!\n",
      "s t _ _ _ _ _ _ _ _\n",
      "\n",
      "Chances restantes: 5\n",
      "Letras erradas: \n"
     ]
    },
    {
     "name": "stdin",
     "output_type": "stream",
     "text": [
      "\n",
      "Digite uma letra: r\n"
     ]
    },
    {
     "name": "stdout",
     "output_type": "stream",
     "text": [
      "Adivinhe a palavra abaixo!\n",
      "s t r _ _ _ _ _ _ _\n",
      "\n",
      "Chances restantes: 5\n",
      "Letras erradas: \n"
     ]
    },
    {
     "name": "stdin",
     "output_type": "stream",
     "text": [
      "\n",
      "Digite uma letra: o\n"
     ]
    },
    {
     "name": "stdout",
     "output_type": "stream",
     "text": [
      "Adivinhe a palavra abaixo!\n",
      "s t r o _ o _ o _ _\n",
      "\n",
      "Chances restantes: 5\n",
      "Letras erradas: \n"
     ]
    },
    {
     "name": "stdin",
     "output_type": "stream",
     "text": [
      "\n",
      "Digite uma letra: \n"
     ]
    },
    {
     "name": "stdout",
     "output_type": "stream",
     "text": [
      "Adivinhe a palavra abaixo!\n",
      "s t r o _ o _ o _ _\n",
      "\n",
      "Chances restantes: 5\n",
      "Letras erradas: \n"
     ]
    },
    {
     "name": "stdin",
     "output_type": "stream",
     "text": [
      "\n",
      "Digite uma letra: n\n"
     ]
    },
    {
     "name": "stdout",
     "output_type": "stream",
     "text": [
      "Adivinhe a palavra abaixo!\n",
      "s t r o _ o n o _ _\n",
      "\n",
      "Chances restantes: 5\n",
      "Letras erradas: \n"
     ]
    },
    {
     "name": "stdin",
     "output_type": "stream",
     "text": [
      "\n",
      "Digite uma letra: g\n"
     ]
    },
    {
     "name": "stdout",
     "output_type": "stream",
     "text": [
      "Adivinhe a palavra abaixo!\n",
      "s t r o g o n o _ _\n",
      "\n",
      "Chances restantes: 5\n",
      "Letras erradas: \n"
     ]
    },
    {
     "name": "stdin",
     "output_type": "stream",
     "text": [
      "\n",
      "Digite uma letra: f\n"
     ]
    },
    {
     "name": "stdout",
     "output_type": "stream",
     "text": [
      "\n",
      " Parabéns!! A palavra é mesmo:  strogonoff\n"
     ]
    },
    {
     "name": "stdin",
     "output_type": "stream",
     "text": [
      "\n",
      "Gostaria de jogar novamente? (sim/não) não\n"
     ]
    },
    {
     "name": "stdout",
     "output_type": "stream",
     "text": [
      "Que pena! Mas obrigada por jogar!\n"
     ]
    }
   ],
   "source": [
    "while True:\n",
    "    Forca.game()\n",
    "    novo_jogo = input(\"\\nGostaria de jogar novamente? (sim/não)\").lower()\n",
    "    if novo_jogo == \"não\":\n",
    "        print(\"Que pena! Mas obrigada por jogar!\")\n",
    "        break\n",
    "    else:\n",
    "        continue"
   ]
  },
  {
   "cell_type": "code",
   "execution_count": null,
   "id": "2f43da4a-9464-42fe-8479-9e4976bd07b3",
   "metadata": {},
   "outputs": [],
   "source": []
  }
 ],
 "metadata": {
  "kernelspec": {
   "display_name": "Python 3 (ipykernel)",
   "language": "python",
   "name": "python3"
  },
  "language_info": {
   "codemirror_mode": {
    "name": "ipython",
    "version": 3
   },
   "file_extension": ".py",
   "mimetype": "text/x-python",
   "name": "python",
   "nbconvert_exporter": "python",
   "pygments_lexer": "ipython3",
   "version": "3.12.7"
  }
 },
 "nbformat": 4,
 "nbformat_minor": 5
}
