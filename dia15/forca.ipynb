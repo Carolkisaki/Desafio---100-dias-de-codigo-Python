{
 "cells": [
  {
   "cell_type": "markdown",
   "id": "85df0e45-1d60-4a5e-a61f-12f9293b3d88",
   "metadata": {},
   "source": [
    "## Projeto 1 - Jogo de Forca no Python\n",
    "\n",
    "1- Definir a lista de palavras possíveis\n",
    "\n",
    "2- Escolher uma palavra aleatória da lista\n",
    "\n",
    "3- Criar uma lista vazia para armazenar as letras adivinhadas\n",
    "\n",
    "4- Definir o número máximo de tentativas permitidas\n",
    "\n",
    "5- Enquanto o número de tentativas não atingir o limite máximo:\n",
    "\n",
    "a. Mostrar a palavra como uma série de underscores, com as letras adivinhadas preenchidas nos espaços corretos\n",
    "\n",
    "b. Pedir ao jogador que adivinhe uma letra\n",
    "\n",
    "c. Verificar se a letra adivinhada está na palavra\n",
    "\n",
    "d. Se a letra adivinhada está na palavra, adicionar a letra à lista de letras adivinhadas e atualizar a exibição da palavra\n",
    "\n",
    "e. Se a letra adivinhada não está na palavra, reduzir o número de tentativas restantes e exibir a mensagem \"Letra incorreta. Tentativas restantes: [número de tentativas restantes]\"\n",
    "\n",
    "f. Verificar se todas as letras da palavra foram adivinhadas\n",
    "\n",
    "g. Se todas as letras foram adivinhadas, exibir a mensagem \"Você venceu!\"\n",
    "\n",
    "h. Se o número de tentativas restantes chegar a zero, exibir a mensagem \"Você perdeu. A palavra era [palavra escolhida]\" e encerrar o jogo."
   ]
  },
  {
   "cell_type": "code",
   "execution_count": 1,
   "id": "7de5e521-3577-4548-af90-e576a89fca64",
   "metadata": {},
   "outputs": [],
   "source": [
    "import random #usado para escolher uma palavra de forma aleatória"
   ]
  },
  {
   "cell_type": "code",
   "execution_count": 2,
   "id": "d14d7cf0-1a40-4b16-ba81-5e4c8d153ceb",
   "metadata": {},
   "outputs": [],
   "source": [
    "from os import system, name "
   ]
  },
  {
   "cell_type": "code",
   "execution_count": 3,
   "id": "615da4ee-8966-460d-885a-217e709f27d4",
   "metadata": {},
   "outputs": [],
   "source": [
    "def limpa_tela():\n",
    "    if name == 'nt':\n",
    "        _ = system('cls') # para windows\n",
    "    else:\n",
    "        _ = system('clear') # mac ou linux"
   ]
  },
  {
   "cell_type": "code",
   "execution_count": 11,
   "id": "460e22e5-a945-4e14-bfce-76d5b529d4a2",
   "metadata": {},
   "outputs": [],
   "source": [
    "#Criar a função para o jogo\n",
    "\n",
    "def game():\n",
    "    limpa_tela()\n",
    "    print(\"\\nBem vindo(a) ao jogo!!\")\n",
    "    print(\"Adivinhe a palavra abaixo!\")\n",
    "\n",
    "#Lista de palavras\n",
    "    palavras = ['chocolate', 'bolo', 'morango', 'strogonoff', 'carne', 'arroz']\n",
    "\n",
    "#Escolhendo randomicamente uma palavra para o jogo\n",
    "    palavra = random.choice(palavras)\n",
    "    letras_descobertas = ['_' for letra in palavra] #list comprehension\n",
    "    chances = 5\n",
    "    erros = []\n",
    "\n",
    "#Loop while\n",
    "    while chances > 0:\n",
    "        print(\" \".join(letras_descobertas))\n",
    "        print(\"\\nChances restantes:\", chances)\n",
    "        print(\"Letras erradas:\", \" \".join(erros))\n",
    "    \n",
    "    #tentativas\n",
    "        tentativa = input(\"\\nDigite uma letra:\").lower()\n",
    "        if tentativa in palavra:\n",
    "            index = 0\n",
    "        \n",
    "            for letra in palavra: #outro loop para checar para cada letra dentro da palavra, devo checar se a tentativa é igual a letra\n",
    "                if tentativa == letra:\n",
    "                    letras_descobertas[index] = letra\n",
    "                index += 1\n",
    "        else:\n",
    "            chances -= 1\n",
    "            erros.append(tentativa)\n",
    "        if \"_\" not in letras_descobertas:\n",
    "            print(\"\\n Parabéns!! A palavra é mesmo: \", palavra)\n",
    "            break\n",
    "\n",
    "    if \"_\" in letras_descobertas:\n",
    "        print(\"\\nPoxa... que pena, você perdeu, a palavra era:\", palavra)"
   ]
  },
  {
   "cell_type": "code",
   "execution_count": null,
   "id": "df62029e-0443-4587-b192-20f2e5ea3966",
   "metadata": {},
   "outputs": [],
   "source": []
  }
 ],
 "metadata": {
  "kernelspec": {
   "display_name": "Python 3 (ipykernel)",
   "language": "python",
   "name": "python3"
  },
  "language_info": {
   "codemirror_mode": {
    "name": "ipython",
    "version": 3
   },
   "file_extension": ".py",
   "mimetype": "text/x-python",
   "name": "python",
   "nbconvert_exporter": "python",
   "pygments_lexer": "ipython3",
   "version": "3.12.7"
  }
 },
 "nbformat": 4,
 "nbformat_minor": 5
}
