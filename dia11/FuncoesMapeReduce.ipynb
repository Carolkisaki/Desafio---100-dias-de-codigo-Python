{
 "cells": [
  {
   "cell_type": "markdown",
   "id": "df859862-c697-4ce9-9816-17d2a18eef08",
   "metadata": {},
   "source": [
    "### Função Map ()"
   ]
  },
  {
   "cell_type": "code",
   "execution_count": 2,
   "id": "200197e2-7a55-4430-82c0-2564a2bd786d",
   "metadata": {},
   "outputs": [],
   "source": [
    "# Função que retorna um número ao quadrado\n",
    "def potencia(x):\n",
    "    return x ** 2"
   ]
  },
  {
   "cell_type": "code",
   "execution_count": 3,
   "id": "44aeed30-a38b-4f31-9009-61162fccf91f",
   "metadata": {},
   "outputs": [
    {
     "name": "stdout",
     "output_type": "stream",
     "text": [
      "[1, 4, 9, 16, 25, 36, 49, 64, 81]\n"
     ]
    }
   ],
   "source": [
    "numeros = [1, 2, 3, 4, 5, 6, 7, 8, 9]\n",
    "numero_ao_quadrado = list(map(potencia, numeros))\n",
    "print(numero_ao_quadrado)"
   ]
  },
  {
   "cell_type": "code",
   "execution_count": 5,
   "id": "1ee408bf-6c8e-47b6-b315-ef0e9ecc4aa0",
   "metadata": {},
   "outputs": [],
   "source": [
    "#Com 2 funções: Fahrenheit e Celsius\n",
    "def fahrenheit(T):\n",
    "    return((float(9)/5)*T + 32)\n",
    "def celsius(T):\n",
    "    return((float(5)/9)* (T-32))"
   ]
  },
  {
   "cell_type": "code",
   "execution_count": 7,
   "id": "f2546952-7e8d-4c9c-9b76-5c9ddcb1a6ec",
   "metadata": {},
   "outputs": [],
   "source": [
    "temperaturas = [0, 23.5, 38, 100]"
   ]
  },
  {
   "cell_type": "code",
   "execution_count": 8,
   "id": "cc92e373-4c3e-40de-891a-bdaf2fe2d015",
   "metadata": {},
   "outputs": [
    {
     "data": {
      "text/plain": [
       "<map at 0x208c7e32ec0>"
      ]
     },
     "execution_count": 8,
     "metadata": {},
     "output_type": "execute_result"
    }
   ],
   "source": [
    "#A função map() retorna um iterator\n",
    "map(fahrenheit, temperaturas)"
   ]
  },
  {
   "cell_type": "code",
   "execution_count": 9,
   "id": "e26b50f6-ea6c-4b29-a61d-8ca5414a9cf3",
   "metadata": {},
   "outputs": [
    {
     "data": {
      "text/plain": [
       "[32.0, 74.30000000000001, 100.4, 212.0]"
      ]
     },
     "execution_count": 9,
     "metadata": {},
     "output_type": "execute_result"
    }
   ],
   "source": [
    "#Para visualizar o resultado, convertemos em lista\n",
    "list(map(fahrenheit, temperaturas))"
   ]
  },
  {
   "cell_type": "code",
   "execution_count": 10,
   "id": "21322418-cc81-4a93-b3ca-7d91740dce96",
   "metadata": {},
   "outputs": [
    {
     "name": "stdout",
     "output_type": "stream",
     "text": [
      "32.0\n",
      "74.30000000000001\n",
      "100.4\n",
      "212.0\n"
     ]
    }
   ],
   "source": [
    "#Também podemos utilizar o loop for para imprimir o resultado\n",
    "for temp in map(fahrenheit, temperaturas):\n",
    "    print(temp)"
   ]
  },
  {
   "cell_type": "code",
   "execution_count": 11,
   "id": "d03dfcae-0433-4e57-88cf-96c1b6a6a5f0",
   "metadata": {},
   "outputs": [
    {
     "data": {
      "text/plain": [
       "[-17.77777777777778, -4.722222222222222, 3.3333333333333335, 37.77777777777778]"
      ]
     },
     "execution_count": 11,
     "metadata": {},
     "output_type": "execute_result"
    }
   ],
   "source": [
    "#Convertendo para Celsius\n",
    "list(map(celsius, temperaturas))"
   ]
  },
  {
   "cell_type": "code",
   "execution_count": 21,
   "id": "43e18263-6021-421b-bca5-8999a1e6b2c8",
   "metadata": {},
   "outputs": [
    {
     "data": {
      "text/plain": [
       "[-17.77777777777778, -4.722222222222222, 3.3333333333333335, 37.77777777777778]"
      ]
     },
     "execution_count": 21,
     "metadata": {},
     "output_type": "execute_result"
    }
   ],
   "source": [
    "#Podemos utilizar a expressão lambda, dessa forma não precisa criar funções previamente.\n",
    "list(map(lambda x: (5.0 / 9) * (x - 32), temperaturas))"
   ]
  },
  {
   "cell_type": "code",
   "execution_count": 13,
   "id": "ee85d648-4fd6-4027-a5dd-d9cefc019a8b",
   "metadata": {},
   "outputs": [
    {
     "data": {
      "text/plain": [
       "[6, 8, 10, 12]"
      ]
     },
     "execution_count": 13,
     "metadata": {},
     "output_type": "execute_result"
    }
   ],
   "source": [
    "#Somando 2 listas\n",
    "a = [1, 2, 3, 4]\n",
    "b = [5, 6, 7, 8]\n",
    "list(map(lambda x, y: x + y, a, b))"
   ]
  },
  {
   "cell_type": "code",
   "execution_count": 14,
   "id": "5848dbec-4b61-4293-9b0d-3364a3902177",
   "metadata": {},
   "outputs": [
    {
     "data": {
      "text/plain": [
       "[15, 18, 21, 24]"
      ]
     },
     "execution_count": 14,
     "metadata": {},
     "output_type": "execute_result"
    }
   ],
   "source": [
    "# 3 listas\n",
    "c = [9, 10, 11, 12]\n",
    "list(map(lambda x, y, z: x + y + z, a, b, c))"
   ]
  },
  {
   "cell_type": "markdown",
   "id": "d3fb2ff4-da6b-4cf8-85d9-05e79b927f06",
   "metadata": {},
   "source": [
    "### Função Reduce ()"
   ]
  },
  {
   "cell_type": "code",
   "execution_count": 15,
   "id": "593293eb-6ac8-46d3-9515-a5c658d14920",
   "metadata": {},
   "outputs": [],
   "source": [
    "#Importando a função\n",
    "from functools import reduce"
   ]
  },
  {
   "cell_type": "code",
   "execution_count": 16,
   "id": "ad6aea91-8cc4-4b74-9747-dfd0e4faac14",
   "metadata": {},
   "outputs": [],
   "source": [
    "lista = [47, 11, 42, 13]\n",
    "def soma(a, b):\n",
    "    x = a + b\n",
    "    return x"
   ]
  },
  {
   "cell_type": "code",
   "execution_count": 17,
   "id": "112f0a38-3ba5-4997-b3dd-e18126a2fbd4",
   "metadata": {},
   "outputs": [
    {
     "data": {
      "text/plain": [
       "113"
      ]
     },
     "execution_count": 17,
     "metadata": {},
     "output_type": "execute_result"
    }
   ],
   "source": [
    "reduce(soma, lista)"
   ]
  },
  {
   "cell_type": "code",
   "execution_count": 20,
   "id": "c49747dc-cd3a-4a34-a77c-b7e993fb33e5",
   "metadata": {},
   "outputs": [
    {
     "data": {
      "text/plain": [
       "113"
      ]
     },
     "execution_count": 20,
     "metadata": {},
     "output_type": "execute_result"
    }
   ],
   "source": [
    "#Com a expressão lambda\n",
    "reduce(lambda x, y: x + y, lista)"
   ]
  },
  {
   "cell_type": "code",
   "execution_count": 23,
   "id": "68f1ff29-5d09-4951-82a7-00d907566cff",
   "metadata": {},
   "outputs": [
    {
     "data": {
      "text/plain": [
       "47"
      ]
     },
     "execution_count": 23,
     "metadata": {},
     "output_type": "execute_result"
    }
   ],
   "source": [
    "#Podemos atribuir a expressão lambda a uma variável\n",
    "#Para buscar o maior valor\n",
    "max_find2 = lambda a, b: a if (a > b) else b\n",
    "reduce(max_find2, lista)"
   ]
  },
  {
   "cell_type": "code",
   "execution_count": 24,
   "id": "6df4f22d-4fca-4ab9-835a-3eadca61c5f3",
   "metadata": {},
   "outputs": [
    {
     "data": {
      "text/plain": [
       "11"
      ]
     },
     "execution_count": 24,
     "metadata": {},
     "output_type": "execute_result"
    }
   ],
   "source": [
    "#Para buscar o menor valor\n",
    "min_find2 = lambda a, b: a if (a < b) else b\n",
    "reduce(min_find2, lista)"
   ]
  },
  {
   "cell_type": "code",
   "execution_count": null,
   "id": "d1e42782-5cd1-48bb-978a-f558faa9ffd6",
   "metadata": {},
   "outputs": [],
   "source": []
  }
 ],
 "metadata": {
  "kernelspec": {
   "display_name": "Python 3 (ipykernel)",
   "language": "python",
   "name": "python3"
  },
  "language_info": {
   "codemirror_mode": {
    "name": "ipython",
    "version": 3
   },
   "file_extension": ".py",
   "mimetype": "text/x-python",
   "name": "python",
   "nbconvert_exporter": "python",
   "pygments_lexer": "ipython3",
   "version": "3.12.7"
  }
 },
 "nbformat": 4,
 "nbformat_minor": 5
}
