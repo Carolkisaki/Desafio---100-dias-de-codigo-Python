{
 "cells": [
  {
   "cell_type": "markdown",
   "id": "faae9bd6-74c6-4ecf-9468-88b2fea35228",
   "metadata": {},
   "source": [
    "### Manipulando Matrizes"
   ]
  },
  {
   "cell_type": "code",
   "execution_count": 2,
   "id": "4fe69fd2-e7a8-4a00-8293-1b7822637f43",
   "metadata": {},
   "outputs": [],
   "source": [
    "import numpy as np"
   ]
  },
  {
   "cell_type": "code",
   "execution_count": 3,
   "id": "867b101c-931b-4ffb-9ba4-651e31928e27",
   "metadata": {},
   "outputs": [],
   "source": [
    "arr1 = np.array([[1, 2, 3] , [4, 5, 6]])"
   ]
  },
  {
   "cell_type": "code",
   "execution_count": 4,
   "id": "fff61097-d610-4811-b204-c7379914e6b5",
   "metadata": {},
   "outputs": [
    {
     "data": {
      "text/plain": [
       "numpy.ndarray"
      ]
     },
     "execution_count": 4,
     "metadata": {},
     "output_type": "execute_result"
    }
   ],
   "source": [
    "type(arr1)"
   ]
  },
  {
   "cell_type": "code",
   "execution_count": 5,
   "id": "6bda2728-2c6c-4b28-a6d4-fd08e6ec531f",
   "metadata": {},
   "outputs": [
    {
     "name": "stdout",
     "output_type": "stream",
     "text": [
      "(2, 3)\n"
     ]
    }
   ],
   "source": [
    "print(arr1.shape)"
   ]
  },
  {
   "cell_type": "code",
   "execution_count": 6,
   "id": "7dbe9837-ae1d-4983-9f77-c369c6dff778",
   "metadata": {},
   "outputs": [],
   "source": [
    "#criando matriz 2x3, apenas com numero 1\n",
    "arr2 = np.ones((2, 3))"
   ]
  },
  {
   "cell_type": "code",
   "execution_count": 7,
   "id": "77bde321-3b26-4fcb-83ee-694e0f888060",
   "metadata": {},
   "outputs": [
    {
     "name": "stdout",
     "output_type": "stream",
     "text": [
      "[[1. 1. 1.]\n",
      " [1. 1. 1.]]\n"
     ]
    }
   ],
   "source": [
    "print(arr2)"
   ]
  },
  {
   "cell_type": "code",
   "execution_count": 8,
   "id": "2e1879d7-f60f-44ee-a0c6-102c2a6d5a2a",
   "metadata": {},
   "outputs": [],
   "source": [
    "lista = [[5, 15, 20], [4, 16, 20], [1, 2, 3]]"
   ]
  },
  {
   "cell_type": "code",
   "execution_count": 9,
   "id": "dc8fd000-3eb3-4756-80bd-5cd07c6a6161",
   "metadata": {},
   "outputs": [],
   "source": [
    "#função matrix() para criar uma matriz a partir de uma lista de listas\n",
    "arr3 = np.matrix(lista)"
   ]
  },
  {
   "cell_type": "code",
   "execution_count": 10,
   "id": "d69ff141-87e5-4386-adcd-66f22af5e0a0",
   "metadata": {},
   "outputs": [
    {
     "data": {
      "text/plain": [
       "numpy.matrix"
      ]
     },
     "execution_count": 10,
     "metadata": {},
     "output_type": "execute_result"
    }
   ],
   "source": [
    "type(arr3)"
   ]
  },
  {
   "cell_type": "code",
   "execution_count": 11,
   "id": "9848b5b3-eb96-4811-9d31-1079b5dcdf9a",
   "metadata": {},
   "outputs": [
    {
     "name": "stdout",
     "output_type": "stream",
     "text": [
      "[[ 5 15 20]\n",
      " [ 4 16 20]\n",
      " [ 1  2  3]]\n"
     ]
    }
   ],
   "source": [
    "print(arr3)"
   ]
  },
  {
   "cell_type": "code",
   "execution_count": 12,
   "id": "cb539ae4-93bf-44a9-861e-f07d4439cf58",
   "metadata": {},
   "outputs": [
    {
     "data": {
      "text/plain": [
       "(3, 3)"
      ]
     },
     "execution_count": 12,
     "metadata": {},
     "output_type": "execute_result"
    }
   ],
   "source": [
    "np.shape(arr3)"
   ]
  },
  {
   "cell_type": "code",
   "execution_count": 13,
   "id": "cf937f97-453d-4bca-8b7d-b1aa38600c8f",
   "metadata": {},
   "outputs": [
    {
     "data": {
      "text/plain": [
       "9"
      ]
     },
     "execution_count": 13,
     "metadata": {},
     "output_type": "execute_result"
    }
   ],
   "source": [
    "arr3.size"
   ]
  },
  {
   "cell_type": "code",
   "execution_count": 14,
   "id": "05dd8b0b-8159-4c56-a3a0-5d657ee53a35",
   "metadata": {},
   "outputs": [
    {
     "name": "stdout",
     "output_type": "stream",
     "text": [
      "int32\n"
     ]
    }
   ],
   "source": [
    "print(arr3.dtype)"
   ]
  },
  {
   "cell_type": "code",
   "execution_count": 15,
   "id": "102c5b6f-fdfd-4192-b4f2-87e99124c8b6",
   "metadata": {},
   "outputs": [
    {
     "data": {
      "text/plain": [
       "2"
      ]
     },
     "execution_count": 15,
     "metadata": {},
     "output_type": "execute_result"
    }
   ],
   "source": [
    "arr3[2, 1]"
   ]
  },
  {
   "cell_type": "code",
   "execution_count": 16,
   "id": "dc4aecf0-255e-4b56-a144-a9a6d35fcd90",
   "metadata": {},
   "outputs": [
    {
     "data": {
      "text/plain": [
       "matrix([[20],\n",
       "        [20]])"
      ]
     },
     "execution_count": 16,
     "metadata": {},
     "output_type": "execute_result"
    }
   ],
   "source": [
    "arr3[0:2, 2]"
   ]
  },
  {
   "cell_type": "code",
   "execution_count": 17,
   "id": "0466739b-9cc4-4cc7-b010-e4f46860f475",
   "metadata": {},
   "outputs": [
    {
     "data": {
      "text/plain": [
       "matrix([[ 4, 16, 20]])"
      ]
     },
     "execution_count": 17,
     "metadata": {},
     "output_type": "execute_result"
    }
   ],
   "source": [
    "arr3[1,]"
   ]
  },
  {
   "cell_type": "code",
   "execution_count": 18,
   "id": "3c282e9d-595f-4d32-8593-4726c08c4dd0",
   "metadata": {},
   "outputs": [],
   "source": [
    "#alterando elemento da matriz\n",
    "arr3[1, 0] = 100"
   ]
  },
  {
   "cell_type": "code",
   "execution_count": 19,
   "id": "502f7a10-fc8c-4210-823b-b5d3f4b614d6",
   "metadata": {},
   "outputs": [
    {
     "name": "stdout",
     "output_type": "stream",
     "text": [
      "[[  5  15  20]\n",
      " [100  16  20]\n",
      " [  1   2   3]]\n"
     ]
    }
   ],
   "source": [
    "print(arr3)"
   ]
  },
  {
   "cell_type": "code",
   "execution_count": 21,
   "id": "ab9ff4d5-b465-4646-9c9a-f3e883484d06",
   "metadata": {},
   "outputs": [],
   "source": [
    "#forçando o tipo de dado particular\n",
    "x = np.array([[1,2]])\n",
    "y = np.array([1.0, 2.0])\n",
    "z = np.array([1,2], dtype = np.float64)"
   ]
  },
  {
   "cell_type": "code",
   "execution_count": 22,
   "id": "2908c816-f863-4b4e-8f0e-4f1892c21e95",
   "metadata": {},
   "outputs": [
    {
     "name": "stdout",
     "output_type": "stream",
     "text": [
      "int32 float64 float64\n"
     ]
    }
   ],
   "source": [
    "print(x.dtype, y.dtype, z.dtype)"
   ]
  },
  {
   "cell_type": "code",
   "execution_count": 23,
   "id": "339cb1c1-f9a8-46ec-8d34-9c51e967fe27",
   "metadata": {},
   "outputs": [],
   "source": [
    "arr4 = np.array([[24, 76, 58], [100, 200, 300], [2, 4, 6]], dtype = float)"
   ]
  },
  {
   "cell_type": "code",
   "execution_count": 24,
   "id": "53972b8a-65b9-4c30-a18a-3fd86aab5c36",
   "metadata": {},
   "outputs": [
    {
     "name": "stdout",
     "output_type": "stream",
     "text": [
      "[[ 24.  76.  58.]\n",
      " [100. 200. 300.]\n",
      " [  2.   4.   6.]]\n"
     ]
    }
   ],
   "source": [
    "print(arr4)"
   ]
  },
  {
   "cell_type": "code",
   "execution_count": 25,
   "id": "148911f7-6645-4ad3-aead-4c0bb17ced7d",
   "metadata": {},
   "outputs": [
    {
     "data": {
      "text/plain": [
       "8"
      ]
     },
     "execution_count": 25,
     "metadata": {},
     "output_type": "execute_result"
    }
   ],
   "source": [
    "#Atributo itemsize para retornar o tamanho em bytes de cada elemento do array\n",
    "arr4.itemsize"
   ]
  },
  {
   "cell_type": "code",
   "execution_count": 26,
   "id": "5c44addf-ec1a-43e8-86fa-fed71b787072",
   "metadata": {},
   "outputs": [
    {
     "data": {
      "text/plain": [
       "72"
      ]
     },
     "execution_count": 26,
     "metadata": {},
     "output_type": "execute_result"
    }
   ],
   "source": [
    "arr4.nbytes"
   ]
  },
  {
   "cell_type": "code",
   "execution_count": 28,
   "id": "326a1e82-cb28-4f0c-9f74-542626e36700",
   "metadata": {},
   "outputs": [
    {
     "data": {
      "text/plain": [
       "2"
      ]
     },
     "execution_count": 28,
     "metadata": {},
     "output_type": "execute_result"
    }
   ],
   "source": [
    "arr4.ndim"
   ]
  },
  {
   "cell_type": "markdown",
   "id": "61a09479-1cc8-41c8-9d58-028b89187de0",
   "metadata": {},
   "source": [
    "### Manipulando Objetos de 3 e 4 Dimensões"
   ]
  },
  {
   "cell_type": "code",
   "execution_count": 29,
   "id": "560aef0e-8556-4592-8b30-4dc2e11278b0",
   "metadata": {},
   "outputs": [],
   "source": [
    "arr_3d = np.array([\n",
    "    [\n",
    "        [1, 2, 3, 4],\n",
    "        [5, 6, 7, 8],\n",
    "        [9, 10, 11, 12]\n",
    "    ],\n",
    "    [\n",
    "        [100, 200, 300, 400],\n",
    "        [500, 600, 700, 800],\n",
    "        [900, 1000, 2000, 3000]\n",
    "    ]\n",
    "])"
   ]
  },
  {
   "cell_type": "code",
   "execution_count": 30,
   "id": "2e3d8b7d-f10b-4486-b7e3-36eb1f1360f1",
   "metadata": {},
   "outputs": [
    {
     "name": "stdout",
     "output_type": "stream",
     "text": [
      "[[[   1    2    3    4]\n",
      "  [   5    6    7    8]\n",
      "  [   9   10   11   12]]\n",
      "\n",
      " [[ 100  200  300  400]\n",
      "  [ 500  600  700  800]\n",
      "  [ 900 1000 2000 3000]]]\n"
     ]
    }
   ],
   "source": [
    "print(arr_3d)"
   ]
  },
  {
   "cell_type": "code",
   "execution_count": 31,
   "id": "5c93be66-bbba-4dcd-b154-e76e1b1c07c5",
   "metadata": {},
   "outputs": [
    {
     "data": {
      "text/plain": [
       "3"
      ]
     },
     "execution_count": 31,
     "metadata": {},
     "output_type": "execute_result"
    }
   ],
   "source": [
    "arr_3d.ndim"
   ]
  },
  {
   "cell_type": "code",
   "execution_count": 33,
   "id": "fd4326ea-a6e3-4384-b0a4-a4a4510f0541",
   "metadata": {},
   "outputs": [
    {
     "data": {
      "text/plain": [
       "(2, 3, 4)"
      ]
     },
     "execution_count": 33,
     "metadata": {},
     "output_type": "execute_result"
    }
   ],
   "source": [
    "arr_3d.shape #2 elementos, 3 linhas, 4 colunas"
   ]
  },
  {
   "cell_type": "code",
   "execution_count": 35,
   "id": "8ba4d2c3-4208-4f89-a13a-9157cab72573",
   "metadata": {},
   "outputs": [
    {
     "data": {
      "text/plain": [
       "10"
      ]
     },
     "execution_count": 35,
     "metadata": {},
     "output_type": "execute_result"
    }
   ],
   "source": [
    "arr_3d[0, 2, 1]"
   ]
  },
  {
   "cell_type": "code",
   "execution_count": 36,
   "id": "6cdc1d1b-1c27-49d9-9d1e-c8129b912ffb",
   "metadata": {},
   "outputs": [],
   "source": [
    "#Array de 4 dimensões\n",
    "arr_4d = np.array([\n",
    "    [\n",
    "        [\n",
    "            [1, 2, 3, 4, 5],\n",
    "            [6, 7, 8, 9, 10],\n",
    "            [11, 12, 13, 14, 15],\n",
    "            [16, 17, 18, 19, 20]\n",
    "        ],\n",
    "        [\n",
    "            [21, 22, 23, 24, 25],\n",
    "            [26, 27, 28, 29, 30],\n",
    "            [31, 32, 33, 34, 35],\n",
    "            [36, 37, 38, 39, 40]\n",
    "        ],\n",
    "        [\n",
    "            [41, 42, 43, 44, 45],\n",
    "            [46, 47, 48, 49, 50],\n",
    "            [51, 52, 53, 54, 55],\n",
    "            [56, 57, 58, 59, 60]\n",
    "        ]\n",
    "    ],\n",
    "    [\n",
    "        [\n",
    "            [61, 62, 63, 64, 65],\n",
    "            [66, 67, 68, 69, 70],\n",
    "            [71, 72, 73, 74, 75],\n",
    "            [76, 77, 78, 79, 80]\n",
    "        ],\n",
    "        [\n",
    "            [81, 82, 83, 84, 85],\n",
    "            [86, 87, 88, 89, 90],\n",
    "            [91, 92, 93, 94, 95],\n",
    "            [96, 97, 98, 99, 100]\n",
    "        ],\n",
    "        [\n",
    "            [101, 102, 103, 104, 105],\n",
    "            [106, 107, 108, 109, 110],\n",
    "            [111, 112, 113, 114, 115],\n",
    "            [116, 117, 118, 119, 120]\n",
    "        ]\n",
    "    ]\n",
    "])"
   ]
  },
  {
   "cell_type": "code",
   "execution_count": 39,
   "id": "f69287d3-c931-42e6-9157-5be59a501546",
   "metadata": {},
   "outputs": [
    {
     "name": "stdout",
     "output_type": "stream",
     "text": [
      "[[[[  1   2   3   4   5]\n",
      "   [  6   7   8   9  10]\n",
      "   [ 11  12  13  14  15]\n",
      "   [ 16  17  18  19  20]]\n",
      "\n",
      "  [[ 21  22  23  24  25]\n",
      "   [ 26  27  28  29  30]\n",
      "   [ 31  32  33  34  35]\n",
      "   [ 36  37  38  39  40]]\n",
      "\n",
      "  [[ 41  42  43  44  45]\n",
      "   [ 46  47  48  49  50]\n",
      "   [ 51  52  53  54  55]\n",
      "   [ 56  57  58  59  60]]]\n",
      "\n",
      "\n",
      " [[[ 61  62  63  64  65]\n",
      "   [ 66  67  68  69  70]\n",
      "   [ 71  72  73  74  75]\n",
      "   [ 76  77  78  79  80]]\n",
      "\n",
      "  [[ 81  82  83  84  85]\n",
      "   [ 86  87  88  89  90]\n",
      "   [ 91  92  93  94  95]\n",
      "   [ 96  97  98  99 100]]\n",
      "\n",
      "  [[101 102 103 104 105]\n",
      "   [106 107 108 109 110]\n",
      "   [111 112 113 114 115]\n",
      "   [116 117 118 119 120]]]]\n"
     ]
    }
   ],
   "source": [
    "print(arr_4d) # 4 [] = estrutura 4D"
   ]
  },
  {
   "cell_type": "code",
   "execution_count": 40,
   "id": "76295152-3b08-4160-836a-f87098ee506c",
   "metadata": {},
   "outputs": [
    {
     "data": {
      "text/plain": [
       "4"
      ]
     },
     "execution_count": 40,
     "metadata": {},
     "output_type": "execute_result"
    }
   ],
   "source": [
    "arr_4d.ndim"
   ]
  },
  {
   "cell_type": "code",
   "execution_count": 41,
   "id": "73fc6fd4-44a2-4bb4-bbb3-11dff4805b19",
   "metadata": {},
   "outputs": [
    {
     "data": {
      "text/plain": [
       "(2, 3, 4, 5)"
      ]
     },
     "execution_count": 41,
     "metadata": {},
     "output_type": "execute_result"
    }
   ],
   "source": [
    "arr_4d.shape #2 grupos, 3 subgrupos, 4 linhas, 5 colunas"
   ]
  },
  {
   "cell_type": "code",
   "execution_count": 43,
   "id": "90bfebd4-7d8f-4bde-8264-074974b1fbcc",
   "metadata": {},
   "outputs": [
    {
     "data": {
      "text/plain": [
       "array([46, 47, 48, 49, 50])"
      ]
     },
     "execution_count": 43,
     "metadata": {},
     "output_type": "execute_result"
    }
   ],
   "source": [
    "arr_4d[0, 2, 1]"
   ]
  },
  {
   "cell_type": "code",
   "execution_count": 44,
   "id": "e9139289-b2c5-4186-a97f-1ddad5fd3de5",
   "metadata": {},
   "outputs": [
    {
     "data": {
      "text/plain": [
       "50"
      ]
     },
     "execution_count": 44,
     "metadata": {},
     "output_type": "execute_result"
    }
   ],
   "source": [
    "arr_4d[0, 2, 1, 4]"
   ]
  }
 ],
 "metadata": {
  "kernelspec": {
   "display_name": "Python 3 (ipykernel)",
   "language": "python",
   "name": "python3"
  },
  "language_info": {
   "codemirror_mode": {
    "name": "ipython",
    "version": 3
   },
   "file_extension": ".py",
   "mimetype": "text/x-python",
   "name": "python",
   "nbconvert_exporter": "python",
   "pygments_lexer": "ipython3",
   "version": "3.12.7"
  }
 },
 "nbformat": 4,
 "nbformat_minor": 5
}
