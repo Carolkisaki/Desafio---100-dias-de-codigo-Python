{
 "cells": [
  {
   "cell_type": "markdown",
   "id": "3830916d-39d6-46a6-a7ef-b21a4d73bdf5",
   "metadata": {},
   "source": [
    "### Slicing de Arrays Numpy"
   ]
  },
  {
   "cell_type": "code",
   "execution_count": 1,
   "id": "a36d6745-2e63-417f-b840-ea7faa5e352e",
   "metadata": {},
   "outputs": [],
   "source": [
    "import numpy as np"
   ]
  },
  {
   "cell_type": "code",
   "execution_count": 5,
   "id": "42869deb-3b3b-48b4-bc96-4d0a42e27a20",
   "metadata": {},
   "outputs": [],
   "source": [
    "arr1 = np.diag(np.arange(3)) \n",
    "#criado um array de 2 dimensões, porque a função diag() cria automaticamente uma matriz com uma diagonal, onde colocaremos 3 elementos"
   ]
  },
  {
   "cell_type": "code",
   "execution_count": 6,
   "id": "1f835ef8-d805-41df-94ca-44453b4bf8d7",
   "metadata": {},
   "outputs": [
    {
     "name": "stdout",
     "output_type": "stream",
     "text": [
      "[[0 0 0]\n",
      " [0 1 0]\n",
      " [0 0 2]]\n"
     ]
    }
   ],
   "source": [
    "print(arr1)"
   ]
  },
  {
   "cell_type": "code",
   "execution_count": 7,
   "id": "562cd97b-5e9b-4256-867e-a261db042a6c",
   "metadata": {},
   "outputs": [
    {
     "data": {
      "text/plain": [
       "1"
      ]
     },
     "execution_count": 7,
     "metadata": {},
     "output_type": "execute_result"
    }
   ],
   "source": [
    "arr1[1, 1]"
   ]
  },
  {
   "cell_type": "code",
   "execution_count": 8,
   "id": "e1d1b963-0e3b-4e1b-ac53-225867a624bc",
   "metadata": {},
   "outputs": [
    {
     "data": {
      "text/plain": [
       "array([0, 1, 0])"
      ]
     },
     "execution_count": 8,
     "metadata": {},
     "output_type": "execute_result"
    }
   ],
   "source": [
    "arr1[1]"
   ]
  },
  {
   "cell_type": "code",
   "execution_count": 10,
   "id": "376a2dbc-746d-4c8f-abdd-be4fc7b8135f",
   "metadata": {},
   "outputs": [
    {
     "data": {
      "text/plain": [
       "array([0, 0, 2])"
      ]
     },
     "execution_count": 10,
     "metadata": {},
     "output_type": "execute_result"
    }
   ],
   "source": [
    "arr1[:,2]"
   ]
  },
  {
   "cell_type": "code",
   "execution_count": 11,
   "id": "8d493fe7-03ae-4fc2-87b6-d41c6c7acdb8",
   "metadata": {},
   "outputs": [
    {
     "name": "stdout",
     "output_type": "stream",
     "text": [
      "[0 1 2 3 4 5 6 7 8 9]\n"
     ]
    }
   ],
   "source": [
    "arr2 = np.arange(10)\n",
    "print(arr2)"
   ]
  },
  {
   "cell_type": "code",
   "execution_count": 12,
   "id": "7d05b4f5-301b-4c31-8a1d-dbc413a18833",
   "metadata": {},
   "outputs": [
    {
     "data": {
      "text/plain": [
       "array([2, 5, 8])"
      ]
     },
     "execution_count": 12,
     "metadata": {},
     "output_type": "execute_result"
    }
   ],
   "source": [
    "#start, end, step\n",
    "arr2[2:9:3]"
   ]
  },
  {
   "cell_type": "code",
   "execution_count": 13,
   "id": "88c793c4-196a-4439-995a-6be94c133f13",
   "metadata": {},
   "outputs": [],
   "source": [
    "a = np.array([1, 2, 3, 4])\n",
    "b = np.array([4, 22, 2, 4])"
   ]
  },
  {
   "cell_type": "code",
   "execution_count": 15,
   "id": "13537a60-b312-4e15-abb9-f875af15cba8",
   "metadata": {},
   "outputs": [
    {
     "data": {
      "text/plain": [
       "array([False, False, False,  True])"
      ]
     },
     "execution_count": 15,
     "metadata": {},
     "output_type": "execute_result"
    }
   ],
   "source": [
    "#Comparação item a item\n",
    "a == b"
   ]
  },
  {
   "cell_type": "code",
   "execution_count": 16,
   "id": "c822b860-d8ea-42f9-b94f-e502355c5a09",
   "metadata": {},
   "outputs": [
    {
     "data": {
      "text/plain": [
       "False"
      ]
     },
     "execution_count": 16,
     "metadata": {},
     "output_type": "execute_result"
    }
   ],
   "source": [
    "#Comparação global\n",
    "np.array_equal(a, b)"
   ]
  },
  {
   "cell_type": "code",
   "execution_count": 17,
   "id": "fd2e8d5c-fb55-4978-bcdd-3da123894912",
   "metadata": {},
   "outputs": [
    {
     "data": {
      "text/plain": [
       "0"
      ]
     },
     "execution_count": 17,
     "metadata": {},
     "output_type": "execute_result"
    }
   ],
   "source": [
    "arr2.min()"
   ]
  },
  {
   "cell_type": "code",
   "execution_count": 18,
   "id": "22e66a3e-d3bc-43e8-aa22-762fc2db18e6",
   "metadata": {},
   "outputs": [
    {
     "data": {
      "text/plain": [
       "9"
      ]
     },
     "execution_count": 18,
     "metadata": {},
     "output_type": "execute_result"
    }
   ],
   "source": [
    "arr2.max()"
   ]
  },
  {
   "cell_type": "code",
   "execution_count": 19,
   "id": "79c35e08-548f-4dc8-a896-32f5355e03c4",
   "metadata": {},
   "outputs": [
    {
     "data": {
      "text/plain": [
       "array([2.5, 3.5, 4.5])"
      ]
     },
     "execution_count": 19,
     "metadata": {},
     "output_type": "execute_result"
    }
   ],
   "source": [
    "#Somando um valor a cada elemento do array\n",
    "np.array([1, 2, 3]) + 1.5"
   ]
  },
  {
   "cell_type": "code",
   "execution_count": 20,
   "id": "b1de4c36-62ba-4e7c-bca5-4069958eb32c",
   "metadata": {},
   "outputs": [],
   "source": [
    "arr3 = np.array([1.2, 1.5, 1.6, 2.5, 3.5, 4.5])"
   ]
  },
  {
   "cell_type": "code",
   "execution_count": 21,
   "id": "3a39f632-f5dc-4086-85b7-8d93ad408a6d",
   "metadata": {},
   "outputs": [],
   "source": [
    "#Arredondando os valores\n",
    "arr4 = np.around(arr3)"
   ]
  },
  {
   "cell_type": "code",
   "execution_count": 22,
   "id": "3c6b9122-32e5-48b9-b10b-773f42bce784",
   "metadata": {},
   "outputs": [
    {
     "name": "stdout",
     "output_type": "stream",
     "text": [
      "[1. 2. 2. 2. 4. 4.]\n"
     ]
    }
   ],
   "source": [
    "print(arr4)"
   ]
  },
  {
   "cell_type": "code",
   "execution_count": 23,
   "id": "96cb914d-2cf0-4be2-906f-fddb627caa71",
   "metadata": {},
   "outputs": [],
   "source": [
    "arr5 = np.array([[1, 2, 3, 4], [5, 6, 7, 8]])"
   ]
  },
  {
   "cell_type": "code",
   "execution_count": 24,
   "id": "f43ce633-a3c0-40b0-8291-c6287466c533",
   "metadata": {},
   "outputs": [
    {
     "name": "stdout",
     "output_type": "stream",
     "text": [
      "[[1 2 3 4]\n",
      " [5 6 7 8]]\n"
     ]
    }
   ],
   "source": [
    "print(arr5)"
   ]
  },
  {
   "cell_type": "markdown",
   "id": "2c647fb2-d4ae-45fa-8c5d-af39afb6fdbe",
   "metadata": {},
   "source": [
    "#### Método flatten() com NumPy é usado para criar uma cópia unidimensional de um array multidimensional. Isso significa que o método cria um novo array, que contém todos os elementos do array multidimensional original, mas que está organizado em uma única linha. A ordem dos elementos no novo array segue a ordem dos elementos no array multidimensional original"
   ]
  },
  {
   "cell_type": "code",
   "execution_count": 25,
   "id": "f41c157c-ac7b-45b7-8204-0784231c0b0a",
   "metadata": {},
   "outputs": [],
   "source": [
    "arr6 = arr5.flatten()"
   ]
  },
  {
   "cell_type": "code",
   "execution_count": 26,
   "id": "e9264e99-a191-4496-a79b-1afdf6cb79d5",
   "metadata": {},
   "outputs": [
    {
     "name": "stdout",
     "output_type": "stream",
     "text": [
      "[1 2 3 4 5 6 7 8]\n"
     ]
    }
   ],
   "source": [
    "print(arr6)"
   ]
  },
  {
   "cell_type": "code",
   "execution_count": 27,
   "id": "f7e30edb-946b-40fb-b0d5-8ed6adee3ec9",
   "metadata": {},
   "outputs": [],
   "source": [
    "arr7 = np.array([1, 2, 3])"
   ]
  },
  {
   "cell_type": "code",
   "execution_count": 28,
   "id": "28c1b6e1-74d8-4cbf-bb4a-9a272c61b26a",
   "metadata": {},
   "outputs": [
    {
     "name": "stdout",
     "output_type": "stream",
     "text": [
      "[1 2 3]\n"
     ]
    }
   ],
   "source": [
    "print(arr7)"
   ]
  },
  {
   "cell_type": "code",
   "execution_count": 29,
   "id": "3fb0454e-47f2-468d-8ca5-59276d7de044",
   "metadata": {},
   "outputs": [
    {
     "data": {
      "text/plain": [
       "array([1, 1, 1, 2, 2, 2, 3, 3, 3])"
      ]
     },
     "execution_count": 29,
     "metadata": {},
     "output_type": "execute_result"
    }
   ],
   "source": [
    "#Repetindo os elementos de um array\n",
    "np.repeat(arr7, 3)"
   ]
  },
  {
   "cell_type": "code",
   "execution_count": 30,
   "id": "f37a1a5d-16ab-4135-ab1b-a8316848c1bd",
   "metadata": {},
   "outputs": [
    {
     "data": {
      "text/plain": [
       "array([1, 2, 3, 1, 2, 3, 1, 2, 3])"
      ]
     },
     "execution_count": 30,
     "metadata": {},
     "output_type": "execute_result"
    }
   ],
   "source": [
    "#Repetindo as combinações\n",
    "np.tile(arr7, 3)"
   ]
  },
  {
   "cell_type": "code",
   "execution_count": 31,
   "id": "63ff6bd1-aaee-42ba-a020-17116bd26707",
   "metadata": {},
   "outputs": [],
   "source": [
    "#Criando uma cópia\n",
    "arr8 = np.copy(arr7)"
   ]
  },
  {
   "cell_type": "code",
   "execution_count": 32,
   "id": "b3855ec5-f04b-4b7d-be8a-2e1e4cedc022",
   "metadata": {},
   "outputs": [
    {
     "name": "stdout",
     "output_type": "stream",
     "text": [
      "[1 2 3]\n"
     ]
    }
   ],
   "source": [
    "print(arr8)"
   ]
  }
 ],
 "metadata": {
  "kernelspec": {
   "display_name": "Python 3 (ipykernel)",
   "language": "python",
   "name": "python3"
  },
  "language_info": {
   "codemirror_mode": {
    "name": "ipython",
    "version": 3
   },
   "file_extension": ".py",
   "mimetype": "text/x-python",
   "name": "python",
   "nbconvert_exporter": "python",
   "pygments_lexer": "ipython3",
   "version": "3.12.7"
  }
 },
 "nbformat": 4,
 "nbformat_minor": 5
}
