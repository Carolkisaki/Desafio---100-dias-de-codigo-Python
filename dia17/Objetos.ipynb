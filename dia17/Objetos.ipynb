{
 "cells": [
  {
   "cell_type": "code",
   "execution_count": 1,
   "id": "588b0ac2-820b-45ee-b522-6e3e4433f78b",
   "metadata": {},
   "outputs": [
    {
     "name": "stdout",
     "output_type": "stream",
     "text": [
      "<class 'int'>\n",
      "<class 'list'>\n",
      "<class 'tuple'>\n",
      "<class 'dict'>\n",
      "<class 'str'>\n"
     ]
    }
   ],
   "source": [
    "#Quando entendemos que em Python tudo é objeto, a gente sabe que tem que procurar pelos métodos e atributos para manipular o objeto daquele tipo, seja uma lista, um dicionário, uma tupla, uma string, um float, um int...\n",
    "\n",
    "print(type(10))\n",
    "print(type([]))\n",
    "print(type(()))\n",
    "print(type({}))\n",
    "print(type('a'))"
   ]
  },
  {
   "cell_type": "code",
   "execution_count": 2,
   "id": "3bfef0e2-176e-4f74-81a6-19979953ceb0",
   "metadata": {},
   "outputs": [],
   "source": [
    "#Criando um novo tipo de objeto\n",
    "class Doce(object):\n",
    "    pass"
   ]
  },
  {
   "cell_type": "code",
   "execution_count": 4,
   "id": "930a9ec3-2fde-488b-a3ad-6e92ec439a5b",
   "metadata": {},
   "outputs": [],
   "source": [
    "#Criando uma instãncia para a classe Doce\n",
    "brigadeiro = Doce()"
   ]
  },
  {
   "cell_type": "code",
   "execution_count": 5,
   "id": "51f9326d-082f-4a19-9fd4-9de8bae750f4",
   "metadata": {},
   "outputs": [
    {
     "name": "stdout",
     "output_type": "stream",
     "text": [
      "<class '__main__.Doce'>\n"
     ]
    }
   ],
   "source": [
    "print(type(brigadeiro))"
   ]
  },
  {
   "cell_type": "code",
   "execution_count": 6,
   "id": "97a78f23-8ae9-4be6-9de6-6855a87f93e6",
   "metadata": {},
   "outputs": [],
   "source": [
    "#Criando uma classe, com um método construtor\n",
    "class Estudantes:\n",
    "    def __init__(self, nome, idade, nota):\n",
    "        self.nome = nome\n",
    "        self.idade = idade\n",
    "        self.nota = nota"
   ]
  },
  {
   "cell_type": "code",
   "execution_count": 7,
   "id": "1378f119-38eb-491b-a1c3-4d67819b573b",
   "metadata": {},
   "outputs": [],
   "source": [
    "#Criando um objeto chamado Estudante1, a partir da classe Estudante\n",
    "Estudante1 = Estudantes(\"Paulo\", 26, 9.0)"
   ]
  },
  {
   "cell_type": "code",
   "execution_count": 8,
   "id": "a5079cf6-8d37-4b66-b069-51749a9407d8",
   "metadata": {},
   "outputs": [
    {
     "data": {
      "text/plain": [
       "'Paulo'"
      ]
     },
     "execution_count": 8,
     "metadata": {},
     "output_type": "execute_result"
    }
   ],
   "source": [
    "Estudante1.nome"
   ]
  },
  {
   "cell_type": "code",
   "execution_count": 9,
   "id": "0a673e1a-6c00-446f-978d-323a4bea938d",
   "metadata": {},
   "outputs": [
    {
     "data": {
      "text/plain": [
       "26"
      ]
     },
     "execution_count": 9,
     "metadata": {},
     "output_type": "execute_result"
    }
   ],
   "source": [
    "Estudante1.idade"
   ]
  },
  {
   "cell_type": "code",
   "execution_count": 10,
   "id": "f4dde965-f040-46f0-a7a4-6d17aa8acc7b",
   "metadata": {},
   "outputs": [
    {
     "data": {
      "text/plain": [
       "9.0"
      ]
     },
     "execution_count": 10,
     "metadata": {},
     "output_type": "execute_result"
    }
   ],
   "source": [
    "Estudante1.nota"
   ]
  },
  {
   "cell_type": "code",
   "execution_count": 17,
   "id": "5aa23628-2e1e-407c-89c8-b8f60c3e770b",
   "metadata": {},
   "outputs": [],
   "source": [
    "#Criando uma classe\n",
    "class Funcionarios:\n",
    "    def __init__(self, nome, salario, cargo):\n",
    "        self.nome = nome\n",
    "        self.salario = salario\n",
    "        self.cargo = cargo\n",
    "        \n",
    "    def listFunc(self): #imprime na tela um conjunto de strings, concatenando com o valor de cada atributo\n",
    "        print(\"Funcionário(a) \" + self.nome + \" tem salário de R$\" + str(self.salario) + \" e o cargo é \" + self.cargo)"
   ]
  },
  {
   "cell_type": "code",
   "execution_count": 18,
   "id": "7195acab-fc10-4875-9be5-2a5415bec0c0",
   "metadata": {},
   "outputs": [],
   "source": [
    "Func1 = Funcionarios(\"Ana\", 15000, \"Cientista de Dados\")"
   ]
  },
  {
   "cell_type": "code",
   "execution_count": 19,
   "id": "b2e4b9d4-bacd-4e6b-a4cf-301ad2f86b40",
   "metadata": {},
   "outputs": [
    {
     "name": "stdout",
     "output_type": "stream",
     "text": [
      "Funcionário(a) Ana tem salário de R$15000 e o cargo é Cientista de Dados\n"
     ]
    }
   ],
   "source": [
    "Func1.listFunc()"
   ]
  },
  {
   "cell_type": "markdown",
   "id": "611aa543-5b77-4ff3-aa47-c37ff39e92a8",
   "metadata": {},
   "source": [
    "### Manipulando Atributos de Objeto"
   ]
  },
  {
   "cell_type": "code",
   "execution_count": 21,
   "id": "39fb207e-b00b-4adf-85fb-90c81eb51416",
   "metadata": {},
   "outputs": [
    {
     "data": {
      "text/plain": [
       "True"
      ]
     },
     "execution_count": 21,
     "metadata": {},
     "output_type": "execute_result"
    }
   ],
   "source": [
    "hasattr(Func1, \"nome\") #tem atributo?"
   ]
  },
  {
   "cell_type": "code",
   "execution_count": 22,
   "id": "fe5a8ea7-3c68-42d2-99f5-22648758fdf3",
   "metadata": {},
   "outputs": [
    {
     "data": {
      "text/plain": [
       "True"
      ]
     },
     "execution_count": 22,
     "metadata": {},
     "output_type": "execute_result"
    }
   ],
   "source": [
    "hasattr(Func1, \"salario\")"
   ]
  },
  {
   "cell_type": "code",
   "execution_count": 23,
   "id": "6cecf7ff-ab0d-4917-b257-e27a52b03f8c",
   "metadata": {},
   "outputs": [],
   "source": [
    "setattr(Func1, \"salario\", 20000) #mude o atributo"
   ]
  },
  {
   "cell_type": "code",
   "execution_count": 24,
   "id": "c20c39ff-59f9-4342-9310-979aa6dfebde",
   "metadata": {},
   "outputs": [
    {
     "data": {
      "text/plain": [
       "True"
      ]
     },
     "execution_count": 24,
     "metadata": {},
     "output_type": "execute_result"
    }
   ],
   "source": [
    "hasattr(Func1, \"salario\")"
   ]
  },
  {
   "cell_type": "code",
   "execution_count": 25,
   "id": "7a30ce5e-138a-4c4e-8b14-0f54af6b6705",
   "metadata": {},
   "outputs": [
    {
     "data": {
      "text/plain": [
       "20000"
      ]
     },
     "execution_count": 25,
     "metadata": {},
     "output_type": "execute_result"
    }
   ],
   "source": [
    "getattr(Func1, \"salario\") #retorne o valor do atributo"
   ]
  },
  {
   "cell_type": "code",
   "execution_count": 26,
   "id": "93d4e49f-10df-433d-b04c-3d08ed4ca818",
   "metadata": {},
   "outputs": [],
   "source": [
    "delattr(Func1, \"salario\") #deletar o atributo"
   ]
  },
  {
   "cell_type": "code",
   "execution_count": 27,
   "id": "57a32401-dd1a-4973-bc85-973f6850ebcb",
   "metadata": {},
   "outputs": [
    {
     "data": {
      "text/plain": [
       "False"
      ]
     },
     "execution_count": 27,
     "metadata": {},
     "output_type": "execute_result"
    }
   ],
   "source": [
    "hasattr(Func1, \"salario\")"
   ]
  }
 ],
 "metadata": {
  "kernelspec": {
   "display_name": "Python 3 (ipykernel)",
   "language": "python",
   "name": "python3"
  },
  "language_info": {
   "codemirror_mode": {
    "name": "ipython",
    "version": 3
   },
   "file_extension": ".py",
   "mimetype": "text/x-python",
   "name": "python",
   "nbconvert_exporter": "python",
   "pygments_lexer": "ipython3",
   "version": "3.12.7"
  }
 },
 "nbformat": 4,
 "nbformat_minor": 5
}
