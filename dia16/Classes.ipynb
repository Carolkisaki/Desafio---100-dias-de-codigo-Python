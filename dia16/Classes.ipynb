{
 "cells": [
  {
   "cell_type": "markdown",
   "id": "46487e25-a414-4798-ae56-594becedd7a6",
   "metadata": {},
   "source": [
    " ## Programação Orientada a Objetos - Classes\n",
    " Uma classe é uma estrutura que descreve um objeto, especificando os atributos e comportamentos que o objeto deve ter.\n",
    " As classes são usadas para criar objetos, que são instâncias da classe. Cada objeto criado a partir da mesma classe terá os mesmos atributos e comportamentos"
   ]
  },
  {
   "cell_type": "code",
   "execution_count": 3,
   "id": "523522cf-4d79-456a-859c-77087a02bf94",
   "metadata": {},
   "outputs": [],
   "source": [
    "# Criando uma classe\n",
    "class Livro():\n",
    "    def __init__(self): #(self) é uma referencia a cada atributo da própria classe. Método construtor\n",
    "        self.titulo = 'Estatística - O que é? Para que serve? Como funciona?'\n",
    "        self.isbn = 9788537815120\n",
    "        print(\"Construtor chamado para criar um objeto desta classe\")\n",
    "    def imprime(self): # métodos são funções que executam ações nos objetos da classe, então o imprime tem acesso aos atributos da classe, porque está dentro da própria classe\n",
    "        print(\"Foi criado o livro %s com ISBN %d\" %(self.titulo, self.isbn))"
   ]
  },
  {
   "cell_type": "code",
   "execution_count": 4,
   "id": "fd1d30a4-5b13-4359-a6ee-2b2288ef9700",
   "metadata": {},
   "outputs": [
    {
     "name": "stdout",
     "output_type": "stream",
     "text": [
      "Construtor chamado para criar um objeto desta classe\n"
     ]
    }
   ],
   "source": [
    "# Criando uma instância da classe\n",
    "Livro1 = Livro()"
   ]
  },
  {
   "cell_type": "code",
   "execution_count": 5,
   "id": "60b7be23-420c-4099-a886-742c5fa658ed",
   "metadata": {},
   "outputs": [],
   "source": [
    "# No momento que você cria uma instância da classe, o método construtor é executado"
   ]
  },
  {
   "cell_type": "code",
   "execution_count": 6,
   "id": "5541962f-a82e-4464-b0cd-ab9def78d2c2",
   "metadata": {},
   "outputs": [
    {
     "data": {
      "text/plain": [
       "__main__.Livro"
      ]
     },
     "execution_count": 6,
     "metadata": {},
     "output_type": "execute_result"
    }
   ],
   "source": [
    "# O objeto Livro1 é do Livro. Na prática a classe especifica um tipo\n",
    "type(Livro1)"
   ]
  },
  {
   "cell_type": "code",
   "execution_count": 7,
   "id": "3af90473-db61-449a-a895-44604f20c0dc",
   "metadata": {},
   "outputs": [
    {
     "data": {
      "text/plain": [
       "'Estatística - O que é? Para que serve? Como funciona?'"
      ]
     },
     "execution_count": 7,
     "metadata": {},
     "output_type": "execute_result"
    }
   ],
   "source": [
    "#Atributo do objeto Livro1\n",
    "Livro1.titulo"
   ]
  },
  {
   "cell_type": "code",
   "execution_count": 8,
   "id": "e43a041f-521e-4824-ab5b-67b1684f2ba7",
   "metadata": {},
   "outputs": [
    {
     "name": "stdout",
     "output_type": "stream",
     "text": [
      "Foi criado o livro Estatística - O que é? Para que serve? Como funciona? com ISBN 9788537815120\n"
     ]
    }
   ],
   "source": [
    "#Método do objeto Livro1\n",
    "Livro1.imprime()"
   ]
  },
  {
   "cell_type": "code",
   "execution_count": 9,
   "id": "56588fa9-c258-4947-bb60-154434e8ab4d",
   "metadata": {},
   "outputs": [],
   "source": [
    "# Usando parâmetros, permitindo que ao criar a instância da classe, seja permitido enviar o título e o código, possibilitando usar a classe com diferentes livros\n",
    "class Livro():\n",
    "    def __init__(self, titulo, isbn):\n",
    "        self.titulo = titulo\n",
    "        self.isbn = isbn\n",
    "        print(\"Construtor chamado para ccriar um objeto desta classe.\")\n",
    "    def imprime(self, titulo, isbn):\n",
    "        print(\"Este é o livro %s e ISBN %d\" %(titulo, isbn))"
   ]
  },
  {
   "cell_type": "code",
   "execution_count": 10,
   "id": "282ad993-ff1f-4cf1-9b50-ca79a6ec0ec8",
   "metadata": {},
   "outputs": [
    {
     "name": "stdout",
     "output_type": "stream",
     "text": [
      "Construtor chamado para ccriar um objeto desta classe.\n"
     ]
    }
   ],
   "source": [
    "Livro2 = Livro(\"O Poder do Hábito\", 77886611)"
   ]
  },
  {
   "cell_type": "code",
   "execution_count": 11,
   "id": "8249b457-e6fe-4343-8c1a-0a2f2a124f64",
   "metadata": {},
   "outputs": [
    {
     "data": {
      "text/plain": [
       "'O Poder do Hábito'"
      ]
     },
     "execution_count": 11,
     "metadata": {},
     "output_type": "execute_result"
    }
   ],
   "source": [
    "Livro2.titulo"
   ]
  },
  {
   "cell_type": "code",
   "execution_count": 12,
   "id": "986955e0-8856-4382-80ea-645d01b05fae",
   "metadata": {},
   "outputs": [
    {
     "name": "stdout",
     "output_type": "stream",
     "text": [
      "Este é o livro O Poder do Hábito e ISBN 77886611\n"
     ]
    }
   ],
   "source": [
    "Livro2.imprime(\"O Poder do Hábito\", 77886611)"
   ]
  },
  {
   "cell_type": "code",
   "execution_count": 13,
   "id": "33b0afc3-20b8-4437-bf0d-f83ccf1214aa",
   "metadata": {},
   "outputs": [],
   "source": [
    "#Criando outra classe\n",
    "class Algoritmo():\n",
    "    def __init__(self, tipo_algo):\n",
    "        self.tipo = tipo_algo\n",
    "        print(\"Construtor chamado para criar um objeto desta classe\")"
   ]
  },
  {
   "cell_type": "code",
   "execution_count": 14,
   "id": "47f0960f-bff6-4246-8680-d57566e0f470",
   "metadata": {},
   "outputs": [
    {
     "name": "stdout",
     "output_type": "stream",
     "text": [
      "Construtor chamado para criar um objeto desta classe\n"
     ]
    }
   ],
   "source": [
    "algo1 = Algoritmo(tipo_algo = 'Random Forest')"
   ]
  },
  {
   "cell_type": "code",
   "execution_count": 15,
   "id": "fd9a4a7c-9e63-43c2-a750-c225293aa498",
   "metadata": {},
   "outputs": [
    {
     "name": "stdout",
     "output_type": "stream",
     "text": [
      "Construtor chamado para criar um objeto desta classe\n"
     ]
    }
   ],
   "source": [
    "algo2 = Algoritmo(tipo_algo = 'Deep Learning')"
   ]
  },
  {
   "cell_type": "code",
   "execution_count": 16,
   "id": "b3433510-d3dc-4952-8533-9da8a45df889",
   "metadata": {},
   "outputs": [
    {
     "data": {
      "text/plain": [
       "'Random Forest'"
      ]
     },
     "execution_count": 16,
     "metadata": {},
     "output_type": "execute_result"
    }
   ],
   "source": [
    "algo1.tipo"
   ]
  },
  {
   "cell_type": "code",
   "execution_count": 17,
   "id": "b0b93d7b-b458-4c6b-9fec-98b2dfbe2da6",
   "metadata": {},
   "outputs": [
    {
     "data": {
      "text/plain": [
       "'Deep Learning'"
      ]
     },
     "execution_count": 17,
     "metadata": {},
     "output_type": "execute_result"
    }
   ],
   "source": [
    "algo2.tipo"
   ]
  }
 ],
 "metadata": {
  "kernelspec": {
   "display_name": "Python 3 (ipykernel)",
   "language": "python",
   "name": "python3"
  },
  "language_info": {
   "codemirror_mode": {
    "name": "ipython",
    "version": 3
   },
   "file_extension": ".py",
   "mimetype": "text/x-python",
   "name": "python",
   "nbconvert_exporter": "python",
   "pygments_lexer": "ipython3",
   "version": "3.12.7"
  }
 },
 "nbformat": 4,
 "nbformat_minor": 5
}
