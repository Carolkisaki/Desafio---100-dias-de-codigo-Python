{
 "cells": [
  {
   "cell_type": "markdown",
   "id": "9db012b1-d637-42b5-9f58-a47a744200db",
   "metadata": {},
   "source": [
    "### Expressões Regulares"
   ]
  },
  {
   "cell_type": "code",
   "execution_count": 1,
   "id": "366c1f45-abce-414f-b739-a33a98532842",
   "metadata": {},
   "outputs": [],
   "source": [
    "import re"
   ]
  },
  {
   "cell_type": "code",
   "execution_count": 2,
   "id": "a6f1e275-b428-4b25-bb31-7019d92bd636",
   "metadata": {},
   "outputs": [],
   "source": [
    "#Variável do tipo string\n",
    "texto = '''\n",
    "A gente precisa, sim, ter mais orgulho de quem somos e de tudo o que já enfrentamoms.\n",
    "A vida nos coloca à prova tantas vezes... Perdemos pessoas, deixamos sonhos pelo caminho, enfrentamos situações que fogem do nosso controle.\n",
    "Erramos, sofremos, caímos, mas no final a gente sempre encontra forças para se levantar, seguir em frente e se reinventar.\n",
    "Cada cicatriz é uma marca da nossa resistência.\n",
    "Olhe para o seu caminho até aqui e sinta orgulho por nunca ter desistido.\n",
    "Você é mais forte do que imagina\n",
    "'''"
   ]
  },
  {
   "cell_type": "code",
   "execution_count": 3,
   "id": "364c1885-e810-446c-bc1d-43984353c03e",
   "metadata": {},
   "outputs": [
    {
     "name": "stdout",
     "output_type": "stream",
     "text": [
      "\n",
      "A gente precisa, sim, ter mais orgulho de quem somos e de tudo o que já enfrentamoms.\n",
      "A vida nos coloca à prova tantas vezes... Perdemos pessoas, deixamos sonhos pelo caminho, enfrentamos situações que fogem do nosso controle.\n",
      "Erramos, sofremos, caímos, mas no final a gente sempre encontra forças para se levantar, seguir em frente e se reinventar.\n",
      "Cada cicatriz é uma marca da nossa resistência.\n",
      "Olhe para o seu caminho até aqui e sinta orgulho por nunca ter desistido.\n",
      "Você é mais forte do que imagina\n",
      "\n"
     ]
    }
   ],
   "source": [
    "print(texto)"
   ]
  },
  {
   "cell_type": "code",
   "execution_count": 4,
   "id": "d123216b-ac89-4bd8-b0f0-2acf5c9224b1",
   "metadata": {},
   "outputs": [
    {
     "name": "stdout",
     "output_type": "stream",
     "text": [
      "O caractere 'a' apareceu 44 vezes no texto\n"
     ]
    }
   ],
   "source": [
    "# REGEX para contar quantas vezes o caractere \"a\" aparece em todo o texto\n",
    "resultado = len(re.findall(\"a\", texto))\n",
    "print(\"O caractere 'a' apareceu\", resultado, \"vezes no texto\")"
   ]
  },
  {
   "cell_type": "code",
   "execution_count": 5,
   "id": "4ff6fc20-1c82-4377-8f69-625602be70e3",
   "metadata": {},
   "outputs": [
    {
     "name": "stdout",
     "output_type": "stream",
     "text": [
      "A palavra 'caminho' apareceu 2 vezes no texto\n"
     ]
    }
   ],
   "source": [
    "#REGEX para contar quantas vezes a palavra \"caminho\" aparece no texto\n",
    "palavra = len(re.findall(\"caminho\", texto))\n",
    "print(\"A palavra 'caminho' apareceu\", palavra, \"vezes no texto\")"
   ]
  },
  {
   "cell_type": "code",
   "execution_count": 10,
   "id": "2c5365a3-259c-444e-a548-4812661c3ee3",
   "metadata": {},
   "outputs": [
    {
     "name": "stdout",
     "output_type": "stream",
     "text": [
      "A palavra após as ',' são:  ['sim', 'ter', 'deixamos', 'enfrentamos', 'sofremos', 'caímos', 'mas', 'seguir']\n"
     ]
    }
   ],
   "source": [
    "#REGEX para extrair as palavras seguidas por vírgula.\n",
    "palavras_seguidas = re.findall(r', (\\w+)', texto)\n",
    "print(\"A palavra após as ',' são: \", palavras_seguidas)"
   ]
  },
  {
   "cell_type": "code",
   "execution_count": 13,
   "id": "d1c69ce9-e43b-42d2-bf85-328997bbba8f",
   "metadata": {},
   "outputs": [
    {
     "name": "stdout",
     "output_type": "stream",
     "text": [
      "Palavra(s) encontrada(s): ['encontra']\n"
     ]
    }
   ],
   "source": [
    "#REGEX que extrai qualquer palavra cujo antecessor seja a palavra \"sempre\" e o sucessor a palavra \"forças\"\n",
    "palavra2 = re.findall(r'\\bsempre (\\w+) forças\\b', texto)\n",
    "print(\"Palavra(s) encontrada(s):\", palavra2)"
   ]
  },
  {
   "cell_type": "code",
   "execution_count": 15,
   "id": "c5ba810b-821b-4d25-aaa6-1bb2172c4dec",
   "metadata": {},
   "outputs": [
    {
     "name": "stdout",
     "output_type": "stream",
     "text": [
      "As palavras acentuadas são: ['já', 'situaçõ', 'caí', 'forç', 'até']\n"
     ]
    }
   ],
   "source": [
    "#REGEX que retorne as palavras com acento, mas somente os caracteres na palavra que são anteriores ao caracterer com acento\n",
    "acento = re.findall(r'\\b[\\wÀ-ÿ]+[áéíóúãõç]', texto)\n",
    "print(\"As palavras acentuadas são:\", acento)"
   ]
  }
 ],
 "metadata": {
  "kernelspec": {
   "display_name": "Python 3 (ipykernel)",
   "language": "python",
   "name": "python3"
  },
  "language_info": {
   "codemirror_mode": {
    "name": "ipython",
    "version": 3
   },
   "file_extension": ".py",
   "mimetype": "text/x-python",
   "name": "python",
   "nbconvert_exporter": "python",
   "pygments_lexer": "ipython3",
   "version": "3.12.7"
  }
 },
 "nbformat": 4,
 "nbformat_minor": 5
}
