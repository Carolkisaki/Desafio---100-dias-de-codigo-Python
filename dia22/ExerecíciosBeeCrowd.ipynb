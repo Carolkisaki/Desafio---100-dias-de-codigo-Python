{
 "cells": [
  {
   "cell_type": "markdown",
   "id": "68d5e262-51e7-4f36-9175-6eba8eeccd4b",
   "metadata": {},
   "source": [
    "## Exercícios para estudo\n",
    "### 1. Escreva um programa que leia o número de um funcionário, seu número de horas trabalhadas, o valor que recebe por hora e calcula o salário desse funcionário. A seguir, mostre o número e o salário do funcionário, com duas casas decimais.\n",
    "\n",
    "Entrada\n",
    "O arquivo de entrada contém 2 números inteiros e 1 número com duas casas decimais, representando o número, quantidade de horas trabalhadas e o valor que o funcionário recebe por hora trabalhada, respectivamente.\n",
    "\n",
    "Saída\n",
    "Imprima o número e o salário do funcionário, conforme exemplo fornecido, com um espaço em branco antes e depois da igualdade. No caso do salário, também deve haver um espaço em branco após o $."
   ]
  },
  {
   "cell_type": "code",
   "execution_count": 1,
   "id": "5b282545-7fb5-42c7-830e-1e98ff138845",
   "metadata": {},
   "outputs": [
    {
     "name": "stdin",
     "output_type": "stream",
     "text": [
      " 1\n",
      " 8\n",
      " 25\n"
     ]
    },
    {
     "name": "stdout",
     "output_type": "stream",
     "text": [
      "NUMBER = 1\n",
      "SALARY = U$200.00\n"
     ]
    }
   ],
   "source": [
    "num = int(input())\n",
    "horas_trabalhadas = int(input())\n",
    "valor_hora = float(input())\n",
    "salary = horas_trabalhadas * valor_hora\n",
    "print(f\"NUMBER = {num}\")\n",
    "print(f\"SALARY = U${salary:.2f}\")"
   ]
  },
  {
   "cell_type": "markdown",
   "id": "738c7a21-9610-462d-9110-b15bb3251743",
   "metadata": {},
   "source": [
    "### 2. Faça um programa que leia o nome de um vendedor, o seu salário fixo e o total de vendas efetuadas por ele no mês (em dinheiro). Sabendo que este vendedor ganha 15% de comissão sobre suas vendas efetuadas, informar o total a receber no final do mês, com duas casas decimais.\n",
    "\n",
    "Entrada\n",
    "O arquivo de entrada contém um texto (primeiro nome do vendedor) e 2 valores de dupla precisão (double) com duas casas decimais, representando o salário fixo do vendedor e montante total das vendas efetuadas por este vendedor, respectivamente.\n",
    "\n",
    "Saída\n",
    "Imprima o total que o funcionário deverá receber, conforme exemplo fornecido."
   ]
  },
  {
   "cell_type": "code",
   "execution_count": 2,
   "id": "e167c52d-9b3f-43f0-be96-f51b5da8b76e",
   "metadata": {},
   "outputs": [
    {
     "name": "stdin",
     "output_type": "stream",
     "text": [
      " Alice\n",
      " 2800\n",
      " 25\n"
     ]
    },
    {
     "name": "stdout",
     "output_type": "stream",
     "text": [
      "TOTAL = R$ 2803.75\n"
     ]
    }
   ],
   "source": [
    "nome = str(input())\n",
    "salario = float(input())\n",
    "vendas = float(input())\n",
    "total = (vendas * 0.15) + salario\n",
    "print(f\"TOTAL = R$ {total:.2f}\")"
   ]
  },
  {
   "cell_type": "markdown",
   "id": "67015558-84a6-4b17-94db-95908ac79efb",
   "metadata": {},
   "source": [
    "### 3. Faça um programa que calcule e mostre o volume de uma esfera sendo fornecido o valor de seu raio (R). A fórmula para calcular o volume é: (4/3) * pi * R3. Considere (atribua) para pi o valor 3.14159.\n",
    "\n",
    "Dica: Ao utilizar a fórmula, procure usar (4/3.0) ou (4.0/3), pois algumas linguagens (dentre elas o C++), assumem que o resultado da divisão entre dois inteiros é outro inteiro.\n",
    "\n",
    "Entrada\n",
    "O arquivo de entrada contém um valor de ponto flutuante (dupla precisão), correspondente ao raio da esfera.\n",
    "\n",
    "Saída\n",
    "A saída deverá ser uma mensagem \"VOLUME\" conforme o exemplo fornecido abaixo, com um espaço antes e um espaço depois da igualdade. O valor deverá ser apresentado com 3 casas após o ponto."
   ]
  },
  {
   "cell_type": "code",
   "execution_count": 3,
   "id": "347988d0-9f25-40e6-a4cf-15c31cc78a0c",
   "metadata": {},
   "outputs": [
    {
     "name": "stdin",
     "output_type": "stream",
     "text": [
      " 3\n"
     ]
    },
    {
     "name": "stdout",
     "output_type": "stream",
     "text": [
      "VOLUME = 113.097\n"
     ]
    }
   ],
   "source": [
    "R = float(input())\n",
    "pi = 3.14159\n",
    "volume = (4/3)* pi * (R**3)\n",
    "print(f\"VOLUME = {volume:.3f}\")"
   ]
  },
  {
   "cell_type": "markdown",
   "id": "b3a3f9e9-136d-4882-abe1-74db0bac63dc",
   "metadata": {},
   "source": [
    "### 4. Neste problema, deve-se ler o código de uma peça 1, o número de peças 1, o valor unitário de cada peça 1, o código de uma peça 2, o número de peças 2 e o valor unitário de cada peça 2. Após, calcule e mostre o valor a ser pago.\n",
    "\n",
    "Entrada\n",
    "O arquivo de entrada contém duas linhas de dados. Em cada linha haverá 3 valores, respectivamente dois inteiros e um valor com 2 casas decimais.\n",
    "\n",
    "Saída\n",
    "A saída deverá ser uma mensagem conforme o exemplo fornecido abaixo, lembrando de deixar um espaço após os dois pontos e um espaço após o \"R$\". O valor deverá ser apresentado com 2 casas após o ponto."
   ]
  },
  {
   "cell_type": "code",
   "execution_count": 4,
   "id": "e63b5150-d76f-49a1-80ca-6747e93a52b3",
   "metadata": {},
   "outputs": [
    {
     "name": "stdin",
     "output_type": "stream",
     "text": [
      " 12\n",
      " 1\n",
      " 1.50\n",
      " 5\n",
      " 2\n",
      " 1.50\n"
     ]
    },
    {
     "name": "stdout",
     "output_type": "stream",
     "text": [
      "VALOR A PAGAR: R$ 4.50\n"
     ]
    }
   ],
   "source": [
    "codigo1 = int(input())\n",
    "numero1 = int(input())\n",
    "valor_unitario1 = float(input())\n",
    "codigo2 = int(input())\n",
    "numero2 = int(input())\n",
    "valor_unitario2 = float(input())\n",
    "\n",
    "total = (numero1 * valor_unitario1) + (numero2 * valor_unitario2)\n",
    "print(f\"VALOR A PAGAR: R$ {total:.2f}\")"
   ]
  },
  {
   "cell_type": "markdown",
   "id": "b0d27822-535a-411d-bd12-2769129e404b",
   "metadata": {},
   "source": [
    "### 5. Escreva um programa que leia três valores com ponto flutuante de dupla precisão: A, B e C. Em seguida, calcule e mostre:\n",
    "a) a área do triângulo retângulo que tem A por base e C por altura.\n",
    "b) a área do círculo de raio C. (pi = 3.14159)\n",
    "c) a área do trapézio que tem A e B por bases e C por altura.\n",
    "d) a área do quadrado que tem lado B.\n",
    "e) a área do retângulo que tem lados A e B.\n",
    "\n",
    "Entrada\n",
    "O arquivo de entrada contém três valores com um dígito após o ponto decimal.\n",
    "\n",
    "Saída\n",
    "O arquivo de saída deverá conter 5 linhas de dados. Cada linha corresponde a uma das áreas descritas acima, sempre com mensagem correspondente e um espaço entre os dois pontos e o valor. O valor calculado deve ser apresentado com 3 dígitos após o ponto decimal."
   ]
  },
  {
   "cell_type": "code",
   "execution_count": 7,
   "id": "e5782808-c01c-4aab-acb1-93c3261f46dd",
   "metadata": {},
   "outputs": [
    {
     "name": "stdin",
     "output_type": "stream",
     "text": [
      " 3.0\n",
      " 4.0\n",
      " 5.2\n"
     ]
    },
    {
     "name": "stdout",
     "output_type": "stream",
     "text": [
      "TRIANGULO: 7.800\n",
      "CIRCULO: 84.949\n",
      "TRAPEZIO: 18.200\n",
      "QUADRADO: 16.000\n",
      "RETANGULO: 12.000\n"
     ]
    }
   ],
   "source": [
    "A = float(input())\n",
    "B = float(input())\n",
    "C = float(input())\n",
    "pi = 3.14159\n",
    "\n",
    "triangulo = (A * C)/ 2\n",
    "circulo = pi * C**2\n",
    "trapezio = (A+B) *C / 2\n",
    "quadrado = B ** 2\n",
    "retangulo = A * B\n",
    "\n",
    "print(f\"TRIANGULO: {triangulo:.3f}\")\n",
    "print(f\"CIRCULO: {circulo:.3f}\")\n",
    "print(f\"TRAPEZIO: {trapezio:.3f}\")\n",
    "print(f\"QUADRADO: {quadrado:.3f}\")\n",
    "print(f\"RETANGULO: {retangulo:.3f}\")"
   ]
  },
  {
   "cell_type": "code",
   "execution_count": null,
   "id": "8f7b9218-d53b-4502-a57c-2c451e2dea3b",
   "metadata": {},
   "outputs": [],
   "source": []
  }
 ],
 "metadata": {
  "kernelspec": {
   "display_name": "Python 3 (ipykernel)",
   "language": "python",
   "name": "python3"
  },
  "language_info": {
   "codemirror_mode": {
    "name": "ipython",
    "version": 3
   },
   "file_extension": ".py",
   "mimetype": "text/x-python",
   "name": "python",
   "nbconvert_exporter": "python",
   "pygments_lexer": "ipython3",
   "version": "3.12.7"
  }
 },
 "nbformat": 4,
 "nbformat_minor": 5
}
