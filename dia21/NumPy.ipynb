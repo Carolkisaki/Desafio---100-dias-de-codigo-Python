{
 "cells": [
  {
   "cell_type": "markdown",
   "id": "c3b25ee8-18c5-46a6-b9ae-5528070c50f7",
   "metadata": {},
   "source": [
    "### Maninpulação de Matrizes com NumPy"
   ]
  },
  {
   "cell_type": "code",
   "execution_count": 1,
   "id": "4d612ea8-4378-4a4a-bbf1-54f57d597ae3",
   "metadata": {},
   "outputs": [],
   "source": [
    "import numpy as np"
   ]
  },
  {
   "cell_type": "code",
   "execution_count": 4,
   "id": "a36de914-c7e0-4ba7-9ff9-bb2fe6cac9e7",
   "metadata": {},
   "outputs": [
    {
     "data": {
      "text/plain": [
       "'1.26.4'"
      ]
     },
     "execution_count": 4,
     "metadata": {},
     "output_type": "execute_result"
    }
   ],
   "source": [
    "np.__version__"
   ]
  },
  {
   "cell_type": "markdown",
   "id": "819d27ac-0f09-4a83-b7ae-356cc2282855",
   "metadata": {},
   "source": [
    "#### Criando Arrays"
   ]
  },
  {
   "cell_type": "code",
   "execution_count": 5,
   "id": "5a90434c-8d0d-43e8-8c74-c650741c03d3",
   "metadata": {},
   "outputs": [],
   "source": [
    "#A partir de uma lista\n",
    "arrl = np.array([10, 21, 32, 45, 50, 68, 100])"
   ]
  },
  {
   "cell_type": "code",
   "execution_count": 6,
   "id": "fcf7a0fa-c2f3-426e-b60f-42d6d000c2ee",
   "metadata": {},
   "outputs": [
    {
     "name": "stdout",
     "output_type": "stream",
     "text": [
      "[ 10  21  32  45  50  68 100]\n"
     ]
    }
   ],
   "source": [
    "print(arrl)"
   ]
  },
  {
   "cell_type": "code",
   "execution_count": 7,
   "id": "b191efb0-114b-469b-8e75-f3d506a5b3a7",
   "metadata": {},
   "outputs": [
    {
     "data": {
      "text/plain": [
       "numpy.ndarray"
      ]
     },
     "execution_count": 7,
     "metadata": {},
     "output_type": "execute_result"
    }
   ],
   "source": [
    "type(arrl)"
   ]
  },
  {
   "cell_type": "markdown",
   "id": "28286095-64fb-4eda-93c8-663b421cde62",
   "metadata": {},
   "source": [
    "Um array NumPy é uma estrutura de dados multidimensional. O NumPy fornece um objeto de matriz N-dimensional (ou ndarray) que é uma grade homogênea de elementos, geralmente números, que podem ser indexados por um conjunto de inteiros\n",
    "São mais eficientes para armazenar e manipular grandes quantidades de dados, pois são implementados em Linguagem C e fornecem várias otimizações de desempenho. Além disso, o NumPy permite fácil leitura e escrita de arquivo de dados, integração com outras bibliotecas Python e suporte a operações em paralelo"
   ]
  },
  {
   "cell_type": "code",
   "execution_count": 9,
   "id": "58241d81-e18f-41b8-aad8-bbce4d2ebf57",
   "metadata": {},
   "outputs": [
    {
     "data": {
      "text/plain": [
       "68"
      ]
     },
     "execution_count": 9,
     "metadata": {},
     "output_type": "execute_result"
    }
   ],
   "source": [
    "arrl[5]"
   ]
  },
  {
   "cell_type": "code",
   "execution_count": 11,
   "id": "ac8116e7-a53b-40b3-9436-4ffb66998679",
   "metadata": {},
   "outputs": [
    {
     "data": {
      "text/plain": [
       "array([21, 32, 45])"
      ]
     },
     "execution_count": 11,
     "metadata": {},
     "output_type": "execute_result"
    }
   ],
   "source": [
    "arrl[1:4] #Na indexação o segundo valor é exclusivo, ou seja não faz parte do resultado"
   ]
  },
  {
   "cell_type": "code",
   "execution_count": 12,
   "id": "ca05349a-c803-4842-b8d5-b7282cd91929",
   "metadata": {},
   "outputs": [
    {
     "data": {
      "text/plain": [
       "array([21, 32, 45, 50])"
      ]
     },
     "execution_count": 12,
     "metadata": {},
     "output_type": "execute_result"
    }
   ],
   "source": [
    "arrl[1:4+1]"
   ]
  },
  {
   "cell_type": "code",
   "execution_count": 13,
   "id": "4d2a5f34-3bdb-4c9e-b27d-ac6eff745a1e",
   "metadata": {},
   "outputs": [],
   "source": [
    "indices = [1, 2, 5, 6]"
   ]
  },
  {
   "cell_type": "code",
   "execution_count": 14,
   "id": "eab04c3e-c477-444a-a778-48974c72c530",
   "metadata": {},
   "outputs": [
    {
     "data": {
      "text/plain": [
       "array([ 21,  32,  68, 100])"
      ]
     },
     "execution_count": 14,
     "metadata": {},
     "output_type": "execute_result"
    }
   ],
   "source": [
    "arrl[indices]"
   ]
  },
  {
   "cell_type": "code",
   "execution_count": 15,
   "id": "ca5ee961-0d3d-4604-af83-f00e2141bd5a",
   "metadata": {},
   "outputs": [],
   "source": [
    "#Máscara booleana para os elementos pares\n",
    "mask = (arrl % 2 == 0)"
   ]
  },
  {
   "cell_type": "code",
   "execution_count": 16,
   "id": "db44a0e3-192b-41ea-a4ba-93d1ffd40be4",
   "metadata": {},
   "outputs": [
    {
     "data": {
      "text/plain": [
       "array([ True, False,  True, False,  True,  True,  True])"
      ]
     },
     "execution_count": 16,
     "metadata": {},
     "output_type": "execute_result"
    }
   ],
   "source": [
    "mask"
   ]
  },
  {
   "cell_type": "code",
   "execution_count": 17,
   "id": "93272b82-abe7-4742-98f0-41c3dfc7b1c6",
   "metadata": {},
   "outputs": [
    {
     "data": {
      "text/plain": [
       "array([ 10,  32,  50,  68, 100])"
      ]
     },
     "execution_count": 17,
     "metadata": {},
     "output_type": "execute_result"
    }
   ],
   "source": [
    "arrl[mask]"
   ]
  },
  {
   "cell_type": "code",
   "execution_count": 18,
   "id": "62f805c6-bd4f-49ed-93c8-f963a39b6539",
   "metadata": {},
   "outputs": [],
   "source": [
    "# Alterando um elemento do array\n",
    "arrl[2] = 25"
   ]
  },
  {
   "cell_type": "code",
   "execution_count": 19,
   "id": "6b56dba7-be98-4864-9166-4d48ba64a670",
   "metadata": {},
   "outputs": [
    {
     "name": "stdout",
     "output_type": "stream",
     "text": [
      "[ 10  21  25  45  50  68 100]\n"
     ]
    }
   ],
   "source": [
    "print(arrl)"
   ]
  },
  {
   "cell_type": "code",
   "execution_count": 21,
   "id": "4dcde5da-d3f8-4609-a428-bb351471d369",
   "metadata": {},
   "outputs": [
    {
     "name": "stdout",
     "output_type": "stream",
     "text": [
      "operação nao permitida\n"
     ]
    }
   ],
   "source": [
    "# não é possível incluir elemento de outro tipo\n",
    "try:\n",
    "    arrl[0] = 'novo elemento'\n",
    "except:\n",
    "    print('operação nao permitida')"
   ]
  },
  {
   "cell_type": "markdown",
   "id": "c7fde10c-9957-48d5-92cd-d028aae9549f",
   "metadata": {},
   "source": [
    "#### Funções NumPy"
   ]
  },
  {
   "cell_type": "code",
   "execution_count": 22,
   "id": "d9b0db5b-fe6c-4256-a786-432589e9518b",
   "metadata": {},
   "outputs": [],
   "source": [
    "arr2 = np.array([1, 2, 3, 4, 5, 6])"
   ]
  },
  {
   "cell_type": "code",
   "execution_count": 23,
   "id": "e96187d7-da09-479b-b7c2-97819300ba42",
   "metadata": {},
   "outputs": [
    {
     "name": "stdout",
     "output_type": "stream",
     "text": [
      "[1 2 3 4 5 6]\n"
     ]
    }
   ],
   "source": [
    "print(arr2)"
   ]
  },
  {
   "cell_type": "code",
   "execution_count": 26,
   "id": "8d88a3f5-6844-42db-a43c-e74f94f65f58",
   "metadata": {},
   "outputs": [
    {
     "data": {
      "text/plain": [
       "array([ 1,  3,  6, 10, 15, 21])"
      ]
     },
     "execution_count": 26,
     "metadata": {},
     "output_type": "execute_result"
    }
   ],
   "source": [
    "arr2.cumsum() #soma acumulada"
   ]
  },
  {
   "cell_type": "code",
   "execution_count": 27,
   "id": "739af336-d7e0-47a9-b98b-dcd2d2942e28",
   "metadata": {},
   "outputs": [
    {
     "data": {
      "text/plain": [
       "array([  1,   2,   6,  24, 120, 720])"
      ]
     },
     "execution_count": 27,
     "metadata": {},
     "output_type": "execute_result"
    }
   ],
   "source": [
    "arr2.cumprod() #produto acumulado"
   ]
  },
  {
   "cell_type": "code",
   "execution_count": 28,
   "id": "8db1774f-6734-442c-a686-bb66bfbc57c6",
   "metadata": {},
   "outputs": [],
   "source": [
    "arr3 = np.arange(0, 50, 5) #cria um array NumPy contendo uma progressão aritmética a partir de um intervalo - start, stop, step"
   ]
  },
  {
   "cell_type": "code",
   "execution_count": 29,
   "id": "8d10f6fc-06d9-4e3e-9d54-6e27465d7d80",
   "metadata": {},
   "outputs": [
    {
     "name": "stdout",
     "output_type": "stream",
     "text": [
      "[ 0  5 10 15 20 25 30 35 40 45]\n"
     ]
    }
   ],
   "source": [
    "print(arr3)"
   ]
  },
  {
   "cell_type": "code",
   "execution_count": 30,
   "id": "a6d6463e-d541-456f-aefb-c70ba7d3b61f",
   "metadata": {},
   "outputs": [
    {
     "data": {
      "text/plain": [
       "numpy.ndarray"
      ]
     },
     "execution_count": 30,
     "metadata": {},
     "output_type": "execute_result"
    }
   ],
   "source": [
    "type(arr3)"
   ]
  },
  {
   "cell_type": "code",
   "execution_count": 31,
   "id": "d1c9bfb8-f38b-40f2-b1ad-9754e11de330",
   "metadata": {},
   "outputs": [
    {
     "data": {
      "text/plain": [
       "(10,)"
      ]
     },
     "execution_count": 31,
     "metadata": {},
     "output_type": "execute_result"
    }
   ],
   "source": [
    "np.shape(arr3) #formato"
   ]
  },
  {
   "cell_type": "code",
   "execution_count": 33,
   "id": "24a0210b-5780-4d0b-b9f1-e7fede9440fb",
   "metadata": {},
   "outputs": [
    {
     "name": "stdout",
     "output_type": "stream",
     "text": [
      "int32\n"
     ]
    }
   ],
   "source": [
    "print(arr3.dtype)"
   ]
  },
  {
   "cell_type": "code",
   "execution_count": 34,
   "id": "8b894cd5-ffc7-427e-b295-e78c436a3722",
   "metadata": {},
   "outputs": [],
   "source": [
    "arr4 = np.zeros(5)"
   ]
  },
  {
   "cell_type": "code",
   "execution_count": 35,
   "id": "2c73a9ae-871e-46f1-887b-586cf1a0f8f0",
   "metadata": {},
   "outputs": [
    {
     "name": "stdout",
     "output_type": "stream",
     "text": [
      "[0. 0. 0. 0. 0.]\n"
     ]
    }
   ],
   "source": [
    "print(arr4)"
   ]
  },
  {
   "cell_type": "code",
   "execution_count": 36,
   "id": "c7356a75-73f4-4cc4-a0ef-f5f5fd67bf55",
   "metadata": {},
   "outputs": [],
   "source": [
    "#Retorna 1 nas posições em diagonal e 0 no restante = matriz diagonal\n",
    "arr5 = np.eye(3)"
   ]
  },
  {
   "cell_type": "code",
   "execution_count": 37,
   "id": "2a59571b-fe13-4ad5-b1b5-660a96585dcd",
   "metadata": {},
   "outputs": [
    {
     "name": "stdout",
     "output_type": "stream",
     "text": [
      "[[1. 0. 0.]\n",
      " [0. 1. 0.]\n",
      " [0. 0. 1.]]\n"
     ]
    }
   ],
   "source": [
    "print(arr5)"
   ]
  },
  {
   "cell_type": "code",
   "execution_count": 39,
   "id": "96c1103e-a6e5-4fb3-b4e3-220b9652a830",
   "metadata": {},
   "outputs": [],
   "source": [
    "arr6 = np.diag(np.array([1, 2, 3, 4]))"
   ]
  },
  {
   "cell_type": "code",
   "execution_count": 40,
   "id": "928902f6-05a3-4b2d-b563-d8b79ce9bfd6",
   "metadata": {},
   "outputs": [
    {
     "name": "stdout",
     "output_type": "stream",
     "text": [
      "[[1 0 0 0]\n",
      " [0 2 0 0]\n",
      " [0 0 3 0]\n",
      " [0 0 0 4]]\n"
     ]
    }
   ],
   "source": [
    "print(arr6)"
   ]
  },
  {
   "cell_type": "code",
   "execution_count": 41,
   "id": "d139b42e-a74d-474f-b8a9-edb8adfbb094",
   "metadata": {},
   "outputs": [],
   "source": [
    "arr7 = np.array([True, False, False, True])"
   ]
  },
  {
   "cell_type": "code",
   "execution_count": 42,
   "id": "46091198-a07e-4c4d-b53c-34a55683e407",
   "metadata": {},
   "outputs": [
    {
     "name": "stdout",
     "output_type": "stream",
     "text": [
      "[ True False False  True]\n"
     ]
    }
   ],
   "source": [
    "print(arr7)"
   ]
  },
  {
   "cell_type": "code",
   "execution_count": 43,
   "id": "a78c250c-8125-424c-9802-2757d05c177f",
   "metadata": {},
   "outputs": [],
   "source": [
    "arr8 = np.array(['Linguagem Python', 'Linguagem R', 'SQL'])"
   ]
  },
  {
   "cell_type": "code",
   "execution_count": 44,
   "id": "49715075-1f6c-41c1-87b4-41644082064d",
   "metadata": {},
   "outputs": [
    {
     "name": "stdout",
     "output_type": "stream",
     "text": [
      "['Linguagem Python' 'Linguagem R' 'SQL']\n"
     ]
    }
   ],
   "source": [
    "print(arr8)"
   ]
  },
  {
   "cell_type": "code",
   "execution_count": 45,
   "id": "b3c3bd3b-9b50-4a3d-851e-13ff2f7ab654",
   "metadata": {},
   "outputs": [
    {
     "name": "stdout",
     "output_type": "stream",
     "text": [
      "[ 0.          0.20408163  0.40816327  0.6122449   0.81632653  1.02040816\n",
      "  1.2244898   1.42857143  1.63265306  1.83673469  2.04081633  2.24489796\n",
      "  2.44897959  2.65306122  2.85714286  3.06122449  3.26530612  3.46938776\n",
      "  3.67346939  3.87755102  4.08163265  4.28571429  4.48979592  4.69387755\n",
      "  4.89795918  5.10204082  5.30612245  5.51020408  5.71428571  5.91836735\n",
      "  6.12244898  6.32653061  6.53061224  6.73469388  6.93877551  7.14285714\n",
      "  7.34693878  7.55102041  7.75510204  7.95918367  8.16326531  8.36734694\n",
      "  8.57142857  8.7755102   8.97959184  9.18367347  9.3877551   9.59183673\n",
      "  9.79591837 10.        ]\n"
     ]
    }
   ],
   "source": [
    "print(np.linspace(0, 10)) #função linspace() é usada para criar uma sequencia de números igualmente espaçados dentro de um intervalo especificado"
   ]
  },
  {
   "cell_type": "code",
   "execution_count": 47,
   "id": "777a43ce-67ab-4ff6-a409-c8cd7d74d002",
   "metadata": {},
   "outputs": [
    {
     "name": "stdout",
     "output_type": "stream",
     "text": [
      "[ 0.          0.71428571  1.42857143  2.14285714  2.85714286  3.57142857\n",
      "  4.28571429  5.          5.71428571  6.42857143  7.14285714  7.85714286\n",
      "  8.57142857  9.28571429 10.        ]\n"
     ]
    }
   ],
   "source": [
    "print(np.linspace(0, 10, 15))"
   ]
  },
  {
   "cell_type": "code",
   "execution_count": 48,
   "id": "6636bc01-d846-4a6f-a3d2-ef8e24f6e4c7",
   "metadata": {},
   "outputs": [
    {
     "name": "stdout",
     "output_type": "stream",
     "text": [
      "[1.00000000e+00 3.59381366e+00 1.29154967e+01 4.64158883e+01\n",
      " 1.66810054e+02 5.99484250e+02 2.15443469e+03 7.74263683e+03\n",
      " 2.78255940e+04 1.00000000e+05]\n"
     ]
    }
   ],
   "source": [
    "print(np.logspace(0, 5, 10)) #usada para criar uma sequencia de números igualmente espaçados em escala logarítmica dentro de um intervalo especificado"
   ]
  },
  {
   "cell_type": "code",
   "execution_count": null,
   "id": "0326bdaf-c9cf-4e48-8ae9-cb279f4f9b7c",
   "metadata": {},
   "outputs": [],
   "source": []
  }
 ],
 "metadata": {
  "kernelspec": {
   "display_name": "Python 3 (ipykernel)",
   "language": "python",
   "name": "python3"
  },
  "language_info": {
   "codemirror_mode": {
    "name": "ipython",
    "version": 3
   },
   "file_extension": ".py",
   "mimetype": "text/x-python",
   "name": "python",
   "nbconvert_exporter": "python",
   "pygments_lexer": "ipython3",
   "version": "3.12.7"
  }
 },
 "nbformat": 4,
 "nbformat_minor": 5
}
