{
 "cells": [
  {
   "cell_type": "markdown",
   "id": "0429dab2-2600-45c5-b11b-fab0be9e7b4b",
   "metadata": {},
   "source": [
    "### Trabalhando com Métodos de Classes"
   ]
  },
  {
   "cell_type": "markdown",
   "id": "25a813f4-a305-436e-9e63-e07c21210da8",
   "metadata": {},
   "source": [
    "Os métodos de classes são funções definidas dentro de uma classe, que realizam operações específicas em objetos criados a partir dessa classe. Os métodos de classes são usados para implementar o comportamento ds objetos que pertencem a essa classe.\n",
    "No entanto, diferentemente das funções normais, os métodos de classe sempre incluem o parâmetro self como o primeiro argumento, que é usado para se referir ao objeto atual da classe"
   ]
  },
  {
   "cell_type": "code",
   "execution_count": 10,
   "id": "69b78f22-65ff-493e-928a-f82da0803d66",
   "metadata": {},
   "outputs": [],
   "source": [
    "#Criando uma classe\n",
    "class Circulo():\n",
    "    pi = 3.14 #variável = atributo da classe fora do atributo do construtor, pois não queremos inicializar esse atributo, não mudaremos o valor de pi\n",
    "    def __init__(self,raio = 5): #se ninguém passar o valor de raio, usarei o valor 5 (valor padrão), senão obrigamos cada objeto a passar um parâmetro.\n",
    "        self.raio = raio\n",
    "        \n",
    "    #Esse método calcula a área\n",
    "    def area(self):\n",
    "        return (self.raio * self.raio) * Circulo.pi #pi pertence a classe Circulo\n",
    "        \n",
    "    #Método para gerar um novo raio\n",
    "    def setRaio(self, novo_raio): #recebe o novo_raio e vai atribuir exatamente o atributo\n",
    "        self.raio = novo_raio\n",
    "        \n",
    "    #Método para obter o raio do círculo\n",
    "    def getRaio(self): #imprime na tela\n",
    "        return self.raio"
   ]
  },
  {
   "cell_type": "code",
   "execution_count": 11,
   "id": "ceceaabd-04ce-4962-a2a2-67853278a628",
   "metadata": {},
   "outputs": [],
   "source": [
    "#Criando o objeto circ, uma instância da Classe Circulo()\n",
    "circ = Circulo()"
   ]
  },
  {
   "cell_type": "code",
   "execution_count": 12,
   "id": "e6cf48fd-ac0d-4413-93b5-cdd77175de0e",
   "metadata": {},
   "outputs": [
    {
     "data": {
      "text/plain": [
       "5"
      ]
     },
     "execution_count": 12,
     "metadata": {},
     "output_type": "execute_result"
    }
   ],
   "source": [
    "# Executando um método da classe Circulo\n",
    "circ.getRaio()"
   ]
  },
  {
   "cell_type": "code",
   "execution_count": 13,
   "id": "70ab7151-b611-4306-bf4a-4ff51e38c173",
   "metadata": {},
   "outputs": [],
   "source": [
    "#Criando outro objeto chamado circ1. Uma instância da classe Circulo(), mas agora sobrescrevendo o valor do atributo\n",
    "circ1 = Circulo(10)"
   ]
  },
  {
   "cell_type": "code",
   "execution_count": 14,
   "id": "0c0ddfce-57d8-431f-8191-afd6b02dfe9c",
   "metadata": {},
   "outputs": [
    {
     "data": {
      "text/plain": [
       "10"
      ]
     },
     "execution_count": 14,
     "metadata": {},
     "output_type": "execute_result"
    }
   ],
   "source": [
    "circ1.getRaio()"
   ]
  },
  {
   "cell_type": "code",
   "execution_count": 15,
   "id": "faca0870-7f06-4fc8-b3e7-7cbc225c8327",
   "metadata": {},
   "outputs": [
    {
     "name": "stdout",
     "output_type": "stream",
     "text": [
      "O raio é:  5\n"
     ]
    }
   ],
   "source": [
    "#Imprimindo o raio\n",
    "print('O raio é: ', circ.getRaio())"
   ]
  },
  {
   "cell_type": "code",
   "execution_count": 16,
   "id": "5cbfef66-d313-42c4-a17f-3246022954d2",
   "metadata": {},
   "outputs": [
    {
     "name": "stdout",
     "output_type": "stream",
     "text": [
      "A área é:  78.5\n"
     ]
    }
   ],
   "source": [
    "#Imprimindo a área\n",
    "print('A área é: ', circ.area())"
   ]
  },
  {
   "cell_type": "code",
   "execution_count": 17,
   "id": "96d12fa1-02c1-4fe9-86f5-06fc95ad4085",
   "metadata": {},
   "outputs": [],
   "source": [
    "#Novo valor para o raio do círculo\n",
    "circ.setRaio(8)"
   ]
  },
  {
   "cell_type": "code",
   "execution_count": 19,
   "id": "faaec95f-c16b-4596-9a87-1c25c1880e30",
   "metadata": {},
   "outputs": [
    {
     "name": "stdout",
     "output_type": "stream",
     "text": [
      "O novo valor do raio é igual a:  8\n"
     ]
    }
   ],
   "source": [
    "print('O novo valor do raio é igual a: ', circ.getRaio())"
   ]
  }
 ],
 "metadata": {
  "kernelspec": {
   "display_name": "Python 3 (ipykernel)",
   "language": "python",
   "name": "python3"
  },
  "language_info": {
   "codemirror_mode": {
    "name": "ipython",
    "version": 3
   },
   "file_extension": ".py",
   "mimetype": "text/x-python",
   "name": "python",
   "nbconvert_exporter": "python",
   "pygments_lexer": "ipython3",
   "version": "3.12.7"
  }
 },
 "nbformat": 4,
 "nbformat_minor": 5
}
